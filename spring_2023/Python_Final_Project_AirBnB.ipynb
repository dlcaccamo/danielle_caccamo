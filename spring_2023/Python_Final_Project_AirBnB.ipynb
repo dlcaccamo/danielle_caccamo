{
  "cells": [
    {
      "cell_type": "markdown",
      "metadata": {
        "id": "8mmuZs6yvf-O"
      },
      "source": [
        " Anita Borawski, Marlo Lindquist, Kevin Gomez, Danielle Caccamo"
      ]
    },
    {
      "cell_type": "markdown",
      "metadata": {
        "id": "WqCk9IyTNe2Z"
      },
      "source": [
        "## Student Name(s)\n",
        "\n",
        "*Please enter the names of the students in your group here.*"
      ]
    },
    {
      "cell_type": "markdown",
      "metadata": {
        "id": "dy4CViyeotbN"
      },
      "source": [
        "# Final Project Intro\n",
        "\n",
        "This notebook contains three sections for you to complete your final project:\n",
        "1. Data Inspection and Exploratory Data Analysis\n",
        "2. Explanatory Model\n",
        "3. Predictive Models\n",
        "\n",
        "In each section, we provide detailed instructions for what we expect you to complete, as well as the corresponding point allocation. We have included a single code cell for you to begin working. Please add code cells and markdown cells as needed and as appropriate!\n",
        "\n",
        "Keep in mind that your final should look like a report: code cells should be used for generating output and commentary should be in markdown cells. Steps that should be answered by using code are numbered and given in black. Questions that should be answered using a markdown cell are in purple and bulleted.\n",
        "\n",
        "**We will deduct points if you answer the questions given in purple in a code cell.**\n",
        "\n",
        "\n",
        "\n",
        "\n",
        "\n",
        "\n",
        "\n",
        "\n",
        "\n"
      ]
    },
    {
      "cell_type": "markdown",
      "metadata": {
        "id": "B_o36HS4NUfg"
      },
      "source": [
        "# Problem Description and Data Dictionary\n",
        "\n",
        "You are an analyst working for a real estate company seeking to diversify its portfolio by offering short-term AirBnB rentals in New York City. The company has managed to collect data on AirBnB listings in the area, which includes both the price per night and unit features. Having never offered AirBnB rentals in this area before, the company would like to use this data to do the following:\n",
        "1. Understand which factors influence AirBnB pricing and how.\n",
        "2. Develop a model to predict the appropriate list price for a unit based on its features.\n",
        "\n",
        "The data dictionary is as follows, where *price* is the outcome variable:\n",
        "\n",
        "| Variable                       | Description                                     |\n",
        "|--------------------------------|-------------------------------------------------|\n",
        "| ID                             | Unique identifier for listing                   |\n",
        "| name                           | Listing name                                    |\n",
        "| host_id                        | Unique identifier for a specific host           |\n",
        "| neighbourhood_group            | The borough the listing is located              |\n",
        "| neighbourhood                  | Neighborhood listing is located                 |\n",
        "| latitude                       | Exact Location                                  |\n",
        "| longitude                      | Exact Location                                  |\n",
        "| room_type                      | Type of space for rent                          |\n",
        "| minimum_nights                 | Minimum length of rental                        |\n",
        "| number_of_reviews              | Total reviews for a listing                     |\n",
        "| last_review                    | Date of most recent review                      |\n",
        "| reviews_per_month              | How many reviews a listing receives each month  |\n",
        "| calculated_host_listings_count | Amount of listings per host                     |\n",
        "| availability_365               | How many available nights there are for booking |\n",
        "| price                          | Price per night                                 |\n"
      ]
    },
    {
      "cell_type": "markdown",
      "metadata": {
        "id": "1B5YWx_4BTqV"
      },
      "source": [
        "# Section 0: Import packages and the dataset (10 points)\n",
        "\n",
        "Import packages as needed and read the dataset. (The dataset link is on the project page.)\n",
        "\n"
      ]
    },
    {
      "cell_type": "code",
      "execution_count": null,
      "metadata": {
        "colab": {
          "background_save": true
        },
        "id": "czET8A6-JP-7",
        "outputId": "68916604-9d40-4526-96ec-8eb53c222837"
      },
      "outputs": [
        {
          "name": "stdout",
          "output_type": "stream",
          "text": [
            "Looking in indexes: https://pypi.org/simple, https://us-python.pkg.dev/colab-wheels/public/simple/\n",
            "Requirement already satisfied: dmba in /usr/local/lib/python3.10/dist-packages (0.2.3)\n",
            "Requirement already satisfied: matplotlib in /usr/local/lib/python3.10/dist-packages (from dmba) (3.7.1)\n",
            "Requirement already satisfied: pandas in /usr/local/lib/python3.10/dist-packages (from dmba) (1.5.3)\n",
            "Requirement already satisfied: scikit-learn in /usr/local/lib/python3.10/dist-packages (from dmba) (1.2.2)\n",
            "Requirement already satisfied: scipy in /usr/local/lib/python3.10/dist-packages (from dmba) (1.10.1)\n",
            "Requirement already satisfied: numpy in /usr/local/lib/python3.10/dist-packages (from dmba) (1.22.4)\n",
            "Requirement already satisfied: graphviz in /usr/local/lib/python3.10/dist-packages (from dmba) (0.20.1)\n",
            "Requirement already satisfied: packaging>=20.0 in /usr/local/lib/python3.10/dist-packages (from matplotlib->dmba) (23.1)\n",
            "Requirement already satisfied: pillow>=6.2.0 in /usr/local/lib/python3.10/dist-packages (from matplotlib->dmba) (8.4.0)\n",
            "Requirement already satisfied: pyparsing>=2.3.1 in /usr/local/lib/python3.10/dist-packages (from matplotlib->dmba) (3.0.9)\n",
            "Requirement already satisfied: fonttools>=4.22.0 in /usr/local/lib/python3.10/dist-packages (from matplotlib->dmba) (4.39.3)\n",
            "Requirement already satisfied: cycler>=0.10 in /usr/local/lib/python3.10/dist-packages (from matplotlib->dmba) (0.11.0)\n",
            "Requirement already satisfied: contourpy>=1.0.1 in /usr/local/lib/python3.10/dist-packages (from matplotlib->dmba) (1.0.7)\n",
            "Requirement already satisfied: kiwisolver>=1.0.1 in /usr/local/lib/python3.10/dist-packages (from matplotlib->dmba) (1.4.4)\n",
            "Requirement already satisfied: python-dateutil>=2.7 in /usr/local/lib/python3.10/dist-packages (from matplotlib->dmba) (2.8.2)\n",
            "Requirement already satisfied: pytz>=2020.1 in /usr/local/lib/python3.10/dist-packages (from pandas->dmba) (2022.7.1)\n",
            "Requirement already satisfied: threadpoolctl>=2.0.0 in /usr/local/lib/python3.10/dist-packages (from scikit-learn->dmba) (3.1.0)\n",
            "Requirement already satisfied: joblib>=1.1.1 in /usr/local/lib/python3.10/dist-packages (from scikit-learn->dmba) (1.2.0)\n",
            "Requirement already satisfied: six>=1.5 in /usr/local/lib/python3.10/dist-packages (from python-dateutil>=2.7->matplotlib->dmba) (1.16.0)\n"
          ]
        }
      ],
      "source": [
        "!pip install dmba"
      ]
    },
    {
      "cell_type": "code",
      "execution_count": null,
      "metadata": {
        "colab": {
          "background_save": true
        },
        "id": "YXHEg64qJnas"
      },
      "outputs": [],
      "source": [
        "import numpy as np\n",
        "import pandas as pd\n",
        "from sklearn.model_selection import train_test_split\n",
        "import statsmodels.formula.api as smf\n",
        "\n",
        "# decision tree algorithm\n",
        "from sklearn.tree import DecisionTreeClassifier\n",
        "\n",
        "# tree visualization and model evaluation\n",
        "from dmba import classificationSummary, regressionSummary, plotDecisionTree, textDecisionTree\n",
        "\n",
        "\n",
        "# model evaluation and roc curve\n",
        "from sklearn import metrics\n",
        "from sklearn.metrics import accuracy_score\n",
        "from sklearn.metrics import roc_auc_score, roc_curve\n",
        "import matplotlib.pylab as plt\n"
      ]
    },
    {
      "cell_type": "code",
      "execution_count": null,
      "metadata": {
        "colab": {
          "background_save": true
        },
        "id": "NFn7Isgiw5Oy"
      },
      "outputs": [],
      "source": [
        "import seaborn as sns\n",
        "import matplotlib.pylab as plt"
      ]
    },
    {
      "cell_type": "code",
      "execution_count": null,
      "metadata": {
        "colab": {
          "background_save": true
        },
        "id": "kwZ5sHWrJrXs"
      },
      "outputs": [],
      "source": [
        "%matplotlib inline"
      ]
    },
    {
      "cell_type": "code",
      "execution_count": null,
      "metadata": {
        "colab": {
          "background_save": true
        },
        "id": "uwYCdKyyJzsa"
      },
      "outputs": [],
      "source": [
        "df = pd.read_csv(\"https://raw.githubusercontent.com/irenebao2020/badm211/main/airbnb.csv\")"
      ]
    },
    {
      "cell_type": "code",
      "execution_count": null,
      "metadata": {
        "colab": {
          "background_save": true
        },
        "id": "gOzC_M7gAKXb"
      },
      "outputs": [],
      "source": [
        "\n",
        "# Create as many additional cells as needed"
      ]
    },
    {
      "cell_type": "markdown",
      "metadata": {
        "id": "5osK9YlFG857"
      },
      "source": [
        "# Section 1: Dataset Inspection, Exploratory Data Analysis, and Preprocessing (40 points)\n",
        "\n",
        "Complete the following steps and answer the following questions. For each step, please make sure to have one (or more) code cells and then create a markdown cell immediately following it in which to answer the question.\n",
        "\n",
        "In this section, point allocations for each step will be based on both your code and response to the question.\n",
        "\n",
        "**Data Inspection and Preprocessing** (20 points)\n",
        "\n",
        "1. (*1 pt)* Print the first five rows.  \n",
        "\n",
        "* <font color=purple> Name three categorical and three numerical variables.</font>\n",
        "\n",
        "2. (*2 pts)* Print the descriptive statistics.\n",
        "\n",
        "* <font color=purple> Describe 2-3 insights from this output.</font>\n",
        "\n",
        "3. (*1 pt)* Print datatypes of the columns.\n",
        "\n",
        "4. (*4 pts)* Use `groupby()` to show summary statistics for two numerical variables across different values of (at least) one categorical variable. (This simply asks for one `groupby` statement.)\n",
        "\n",
        "* <font color=purple>What insights do you gain from this output?</font>\n",
        "\n",
        "5. (*2 pts)* For two categorical variables of your choice, show the *proportion* of categories (AKA values) that each takes.\n",
        "\n",
        "* <font color=purple>What can be said about the data based on these outputs?</font>\n",
        "\n",
        "6. (*2 pts)* Check for missing values and handle them appropriately.\n",
        "\n",
        "* <font color=purple>Are there any missing values in the data? If yes, which variable had the most missing values?</font>\n",
        "\n",
        "7. (*2 pts)* Check for duplicate rows and handle them appropriately.\n",
        "\n",
        "* <font color=purple>Are there any duplicate rows? If yes, how many?</font>\n",
        "\n",
        "8. (*2 pts)* Show 5 rows of the data. By looking at the output you just generated, are there any variables that do *not* contain useful or relevant information about records? If so, be sure to remove them from the data. You may choose to remove multiple variables.\n",
        "\n",
        "9. (*4 pts)* Identify what the outcome variable is. Depending on the variable type, provide summary statistics or the distribution of the outcome variable. If your outcome variable is a categorical variable, convert the text values to 0/1.\n",
        "\n",
        "* <font color=purple>Is this a regression or classification problem? Why?</font>\n",
        "\n",
        "**Data Visualization** (15 points)\n",
        "\n",
        "*For this section, you can choose which variables you want to visualize. When completing this section, we encourage you to think about the relationships you are trying to explore and what you will ultimately be predicting.*\n",
        "\n",
        "10. (*5 pts)* Draw a scatterplot.\n",
        "\n",
        "* <font color=purple>Comment on your scatterplot.</font>\n",
        "\n",
        "11. (*5 pts)* Draw a histogram.\n",
        "\n",
        "* <font color=purple>Comment on your histogram. </font>\n",
        "\n",
        "12. (*5 pts)* Draw a bar chart. Use mean as the summary statistic.\n",
        "\n",
        "* <font color=purple>Comment on the bar chart.</font>\n",
        "\n",
        "**Data Preprocessing** (5 points)\n",
        "\n",
        "13. (*5 pts)* Dummy code your categorical variables.\n",
        "\n",
        "* <font color=purple>How many variables are in the resulting dataframe?</font>\n"
      ]
    },
    {
      "cell_type": "code",
      "execution_count": null,
      "metadata": {
        "colab": {
          "background_save": true
        },
        "id": "BPmCuak2UwhF",
        "outputId": "6336a0b8-feb1-4b53-c3d7-329a965148a6"
      },
      "outputs": [
        {
          "data": {
            "text/html": [
              "\n",
              "  <div id=\"df-9662c6f2-65cf-4736-93cf-bf260b1040c8\">\n",
              "    <div class=\"colab-df-container\">\n",
              "      <div>\n",
              "<style scoped>\n",
              "    .dataframe tbody tr th:only-of-type {\n",
              "        vertical-align: middle;\n",
              "    }\n",
              "\n",
              "    .dataframe tbody tr th {\n",
              "        vertical-align: top;\n",
              "    }\n",
              "\n",
              "    .dataframe thead th {\n",
              "        text-align: right;\n",
              "    }\n",
              "</style>\n",
              "<table border=\"1\" class=\"dataframe\">\n",
              "  <thead>\n",
              "    <tr style=\"text-align: right;\">\n",
              "      <th></th>\n",
              "      <th>listing_id</th>\n",
              "      <th>name</th>\n",
              "      <th>host_id</th>\n",
              "      <th>host_name</th>\n",
              "      <th>neighbourhood_group</th>\n",
              "      <th>neighbourhood</th>\n",
              "      <th>latitude</th>\n",
              "      <th>longitude</th>\n",
              "      <th>room_type</th>\n",
              "      <th>minimum_nights</th>\n",
              "      <th>number_of_reviews</th>\n",
              "      <th>last_review</th>\n",
              "      <th>reviews_per_month</th>\n",
              "      <th>calculated_host_listings_count</th>\n",
              "      <th>availability_365</th>\n",
              "      <th>price</th>\n",
              "    </tr>\n",
              "  </thead>\n",
              "  <tbody>\n",
              "    <tr>\n",
              "      <th>0</th>\n",
              "      <td>2539</td>\n",
              "      <td>Clean_&amp;_quiet_apt_home_by_the_park</td>\n",
              "      <td>2787.0</td>\n",
              "      <td>John</td>\n",
              "      <td>Brooklyn</td>\n",
              "      <td>Kensington</td>\n",
              "      <td>40.64749</td>\n",
              "      <td>-73.97237</td>\n",
              "      <td>Private_room</td>\n",
              "      <td>1</td>\n",
              "      <td>9.0</td>\n",
              "      <td>10/19/18</td>\n",
              "      <td>0.21</td>\n",
              "      <td>6</td>\n",
              "      <td>365</td>\n",
              "      <td>149</td>\n",
              "    </tr>\n",
              "    <tr>\n",
              "      <th>1</th>\n",
              "      <td>2539</td>\n",
              "      <td>Clean_&amp;_quiet_apt_home_by_the_park</td>\n",
              "      <td>2787.0</td>\n",
              "      <td>John</td>\n",
              "      <td>Brooklyn</td>\n",
              "      <td>Kensington</td>\n",
              "      <td>40.64749</td>\n",
              "      <td>-73.97237</td>\n",
              "      <td>Private_room</td>\n",
              "      <td>1</td>\n",
              "      <td>9.0</td>\n",
              "      <td>10/19/18</td>\n",
              "      <td>0.21</td>\n",
              "      <td>6</td>\n",
              "      <td>365</td>\n",
              "      <td>149</td>\n",
              "    </tr>\n",
              "    <tr>\n",
              "      <th>2</th>\n",
              "      <td>2595</td>\n",
              "      <td>Skylit_Midtown_Castle</td>\n",
              "      <td>2845.0</td>\n",
              "      <td>Jennifer</td>\n",
              "      <td>Manhattan</td>\n",
              "      <td>Midtown</td>\n",
              "      <td>40.75362</td>\n",
              "      <td>-73.98377</td>\n",
              "      <td>Entire_home/apt</td>\n",
              "      <td>1</td>\n",
              "      <td>45.0</td>\n",
              "      <td>5/21/19</td>\n",
              "      <td>0.38</td>\n",
              "      <td>2</td>\n",
              "      <td>355</td>\n",
              "      <td>225</td>\n",
              "    </tr>\n",
              "    <tr>\n",
              "      <th>3</th>\n",
              "      <td>3647</td>\n",
              "      <td>THE_VILLAGE_OF_HARLEM....NEW_YORK_!</td>\n",
              "      <td>4632.0</td>\n",
              "      <td>Elisabeth</td>\n",
              "      <td>Manhattan</td>\n",
              "      <td>Harlem</td>\n",
              "      <td>40.80902</td>\n",
              "      <td>-73.94190</td>\n",
              "      <td>Private_room</td>\n",
              "      <td>3</td>\n",
              "      <td>0.0</td>\n",
              "      <td>NaN</td>\n",
              "      <td>NaN</td>\n",
              "      <td>1</td>\n",
              "      <td>365</td>\n",
              "      <td>150</td>\n",
              "    </tr>\n",
              "    <tr>\n",
              "      <th>4</th>\n",
              "      <td>3831</td>\n",
              "      <td>Cozy_Entire_Floor_of_Brownstone</td>\n",
              "      <td>4869.0</td>\n",
              "      <td>LisaRoxanne</td>\n",
              "      <td>Brooklyn</td>\n",
              "      <td>Clinton_Hill</td>\n",
              "      <td>40.68514</td>\n",
              "      <td>-73.95976</td>\n",
              "      <td>Entire_home/apt</td>\n",
              "      <td>1</td>\n",
              "      <td>270.0</td>\n",
              "      <td>7/5/19</td>\n",
              "      <td>4.64</td>\n",
              "      <td>1</td>\n",
              "      <td>194</td>\n",
              "      <td>89</td>\n",
              "    </tr>\n",
              "  </tbody>\n",
              "</table>\n",
              "</div>\n",
              "      <button class=\"colab-df-convert\" onclick=\"convertToInteractive('df-9662c6f2-65cf-4736-93cf-bf260b1040c8')\"\n",
              "              title=\"Convert this dataframe to an interactive table.\"\n",
              "              style=\"display:none;\">\n",
              "        \n",
              "  <svg xmlns=\"http://www.w3.org/2000/svg\" height=\"24px\"viewBox=\"0 0 24 24\"\n",
              "       width=\"24px\">\n",
              "    <path d=\"M0 0h24v24H0V0z\" fill=\"none\"/>\n",
              "    <path d=\"M18.56 5.44l.94 2.06.94-2.06 2.06-.94-2.06-.94-.94-2.06-.94 2.06-2.06.94zm-11 1L8.5 8.5l.94-2.06 2.06-.94-2.06-.94L8.5 2.5l-.94 2.06-2.06.94zm10 10l.94 2.06.94-2.06 2.06-.94-2.06-.94-.94-2.06-.94 2.06-2.06.94z\"/><path d=\"M17.41 7.96l-1.37-1.37c-.4-.4-.92-.59-1.43-.59-.52 0-1.04.2-1.43.59L10.3 9.45l-7.72 7.72c-.78.78-.78 2.05 0 2.83L4 21.41c.39.39.9.59 1.41.59.51 0 1.02-.2 1.41-.59l7.78-7.78 2.81-2.81c.8-.78.8-2.07 0-2.86zM5.41 20L4 18.59l7.72-7.72 1.47 1.35L5.41 20z\"/>\n",
              "  </svg>\n",
              "      </button>\n",
              "      \n",
              "  <style>\n",
              "    .colab-df-container {\n",
              "      display:flex;\n",
              "      flex-wrap:wrap;\n",
              "      gap: 12px;\n",
              "    }\n",
              "\n",
              "    .colab-df-convert {\n",
              "      background-color: #E8F0FE;\n",
              "      border: none;\n",
              "      border-radius: 50%;\n",
              "      cursor: pointer;\n",
              "      display: none;\n",
              "      fill: #1967D2;\n",
              "      height: 32px;\n",
              "      padding: 0 0 0 0;\n",
              "      width: 32px;\n",
              "    }\n",
              "\n",
              "    .colab-df-convert:hover {\n",
              "      background-color: #E2EBFA;\n",
              "      box-shadow: 0px 1px 2px rgba(60, 64, 67, 0.3), 0px 1px 3px 1px rgba(60, 64, 67, 0.15);\n",
              "      fill: #174EA6;\n",
              "    }\n",
              "\n",
              "    [theme=dark] .colab-df-convert {\n",
              "      background-color: #3B4455;\n",
              "      fill: #D2E3FC;\n",
              "    }\n",
              "\n",
              "    [theme=dark] .colab-df-convert:hover {\n",
              "      background-color: #434B5C;\n",
              "      box-shadow: 0px 1px 3px 1px rgba(0, 0, 0, 0.15);\n",
              "      filter: drop-shadow(0px 1px 2px rgba(0, 0, 0, 0.3));\n",
              "      fill: #FFFFFF;\n",
              "    }\n",
              "  </style>\n",
              "\n",
              "      <script>\n",
              "        const buttonEl =\n",
              "          document.querySelector('#df-9662c6f2-65cf-4736-93cf-bf260b1040c8 button.colab-df-convert');\n",
              "        buttonEl.style.display =\n",
              "          google.colab.kernel.accessAllowed ? 'block' : 'none';\n",
              "\n",
              "        async function convertToInteractive(key) {\n",
              "          const element = document.querySelector('#df-9662c6f2-65cf-4736-93cf-bf260b1040c8');\n",
              "          const dataTable =\n",
              "            await google.colab.kernel.invokeFunction('convertToInteractive',\n",
              "                                                     [key], {});\n",
              "          if (!dataTable) return;\n",
              "\n",
              "          const docLinkHtml = 'Like what you see? Visit the ' +\n",
              "            '<a target=\"_blank\" href=https://colab.research.google.com/notebooks/data_table.ipynb>data table notebook</a>'\n",
              "            + ' to learn more about interactive tables.';\n",
              "          element.innerHTML = '';\n",
              "          dataTable['output_type'] = 'display_data';\n",
              "          await google.colab.output.renderOutput(dataTable, element);\n",
              "          const docLink = document.createElement('div');\n",
              "          docLink.innerHTML = docLinkHtml;\n",
              "          element.appendChild(docLink);\n",
              "        }\n",
              "      </script>\n",
              "    </div>\n",
              "  </div>\n",
              "  "
            ],
            "text/plain": [
              "   listing_id                                 name  host_id    host_name  \\\n",
              "0        2539   Clean_&_quiet_apt_home_by_the_park   2787.0         John   \n",
              "1        2539   Clean_&_quiet_apt_home_by_the_park   2787.0         John   \n",
              "2        2595                Skylit_Midtown_Castle   2845.0     Jennifer   \n",
              "3        3647  THE_VILLAGE_OF_HARLEM....NEW_YORK_!   4632.0    Elisabeth   \n",
              "4        3831      Cozy_Entire_Floor_of_Brownstone   4869.0  LisaRoxanne   \n",
              "\n",
              "  neighbourhood_group neighbourhood  latitude  longitude        room_type  \\\n",
              "0            Brooklyn    Kensington  40.64749  -73.97237     Private_room   \n",
              "1            Brooklyn    Kensington  40.64749  -73.97237     Private_room   \n",
              "2           Manhattan       Midtown  40.75362  -73.98377  Entire_home/apt   \n",
              "3           Manhattan        Harlem  40.80902  -73.94190     Private_room   \n",
              "4            Brooklyn  Clinton_Hill  40.68514  -73.95976  Entire_home/apt   \n",
              "\n",
              "   minimum_nights  number_of_reviews last_review  reviews_per_month  \\\n",
              "0               1                9.0    10/19/18               0.21   \n",
              "1               1                9.0    10/19/18               0.21   \n",
              "2               1               45.0     5/21/19               0.38   \n",
              "3               3                0.0         NaN                NaN   \n",
              "4               1              270.0      7/5/19               4.64   \n",
              "\n",
              "   calculated_host_listings_count  availability_365  price  \n",
              "0                               6               365    149  \n",
              "1                               6               365    149  \n",
              "2                               2               355    225  \n",
              "3                               1               365    150  \n",
              "4                               1               194     89  "
            ]
          },
          "execution_count": 67,
          "metadata": {},
          "output_type": "execute_result"
        }
      ],
      "source": [
        "df.head()"
      ]
    },
    {
      "cell_type": "markdown",
      "metadata": {
        "id": "kF4AifCQKkMa"
      },
      "source": [
        "Categorical: neighbourhood_group, neighbourhood, room_type\n",
        "Numerical: latitude, longitude, number_of_reviews"
      ]
    },
    {
      "cell_type": "code",
      "execution_count": null,
      "metadata": {
        "colab": {
          "background_save": true
        },
        "id": "PRxYmxV6K2WO",
        "outputId": "613529c5-12d2-4e91-f331-47ab766901f2"
      },
      "outputs": [
        {
          "data": {
            "text/html": [
              "\n",
              "  <div id=\"df-08afce63-eaad-4a36-9702-32e98b478a47\">\n",
              "    <div class=\"colab-df-container\">\n",
              "      <div>\n",
              "<style scoped>\n",
              "    .dataframe tbody tr th:only-of-type {\n",
              "        vertical-align: middle;\n",
              "    }\n",
              "\n",
              "    .dataframe tbody tr th {\n",
              "        vertical-align: top;\n",
              "    }\n",
              "\n",
              "    .dataframe thead th {\n",
              "        text-align: right;\n",
              "    }\n",
              "</style>\n",
              "<table border=\"1\" class=\"dataframe\">\n",
              "  <thead>\n",
              "    <tr style=\"text-align: right;\">\n",
              "      <th></th>\n",
              "      <th>listing_id</th>\n",
              "      <th>host_id</th>\n",
              "      <th>latitude</th>\n",
              "      <th>longitude</th>\n",
              "      <th>minimum_nights</th>\n",
              "      <th>number_of_reviews</th>\n",
              "      <th>reviews_per_month</th>\n",
              "      <th>calculated_host_listings_count</th>\n",
              "      <th>availability_365</th>\n",
              "      <th>price</th>\n",
              "    </tr>\n",
              "  </thead>\n",
              "  <tbody>\n",
              "    <tr>\n",
              "      <th>count</th>\n",
              "      <td>4.886300e+04</td>\n",
              "      <td>4.886200e+04</td>\n",
              "      <td>48863.000000</td>\n",
              "      <td>48861.000000</td>\n",
              "      <td>48863.000000</td>\n",
              "      <td>48860.000000</td>\n",
              "      <td>38829.000000</td>\n",
              "      <td>48863.000000</td>\n",
              "      <td>48863.000000</td>\n",
              "      <td>48863.000000</td>\n",
              "    </tr>\n",
              "    <tr>\n",
              "      <th>mean</th>\n",
              "      <td>1.901845e+07</td>\n",
              "      <td>6.763310e+07</td>\n",
              "      <td>40.728950</td>\n",
              "      <td>-73.952158</td>\n",
              "      <td>6.630354</td>\n",
              "      <td>23.298731</td>\n",
              "      <td>1.373789</td>\n",
              "      <td>7.147617</td>\n",
              "      <td>112.665534</td>\n",
              "      <td>152.603381</td>\n",
              "    </tr>\n",
              "    <tr>\n",
              "      <th>std</th>\n",
              "      <td>1.098382e+07</td>\n",
              "      <td>7.861868e+07</td>\n",
              "      <td>0.054532</td>\n",
              "      <td>0.046158</td>\n",
              "      <td>13.959867</td>\n",
              "      <td>44.574438</td>\n",
              "      <td>1.680554</td>\n",
              "      <td>32.962901</td>\n",
              "      <td>131.549568</td>\n",
              "      <td>239.833686</td>\n",
              "    </tr>\n",
              "    <tr>\n",
              "      <th>min</th>\n",
              "      <td>2.539000e+03</td>\n",
              "      <td>2.438000e+03</td>\n",
              "      <td>40.499790</td>\n",
              "      <td>-74.244420</td>\n",
              "      <td>1.000000</td>\n",
              "      <td>0.000000</td>\n",
              "      <td>0.010000</td>\n",
              "      <td>1.000000</td>\n",
              "      <td>0.000000</td>\n",
              "      <td>0.000000</td>\n",
              "    </tr>\n",
              "    <tr>\n",
              "      <th>25%</th>\n",
              "      <td>9.472744e+06</td>\n",
              "      <td>7.822737e+06</td>\n",
              "      <td>40.690090</td>\n",
              "      <td>-73.983070</td>\n",
              "      <td>1.000000</td>\n",
              "      <td>1.000000</td>\n",
              "      <td>0.190000</td>\n",
              "      <td>1.000000</td>\n",
              "      <td>0.000000</td>\n",
              "      <td>69.000000</td>\n",
              "    </tr>\n",
              "    <tr>\n",
              "      <th>50%</th>\n",
              "      <td>1.968202e+07</td>\n",
              "      <td>3.080252e+07</td>\n",
              "      <td>40.723080</td>\n",
              "      <td>-73.955680</td>\n",
              "      <td>3.000000</td>\n",
              "      <td>5.000000</td>\n",
              "      <td>0.720000</td>\n",
              "      <td>1.000000</td>\n",
              "      <td>45.000000</td>\n",
              "      <td>106.000000</td>\n",
              "    </tr>\n",
              "    <tr>\n",
              "      <th>75%</th>\n",
              "      <td>2.915256e+07</td>\n",
              "      <td>1.074344e+08</td>\n",
              "      <td>40.763130</td>\n",
              "      <td>-73.936230</td>\n",
              "      <td>5.000000</td>\n",
              "      <td>24.000000</td>\n",
              "      <td>2.020000</td>\n",
              "      <td>2.000000</td>\n",
              "      <td>226.000000</td>\n",
              "      <td>175.000000</td>\n",
              "    </tr>\n",
              "    <tr>\n",
              "      <th>max</th>\n",
              "      <td>3.648724e+07</td>\n",
              "      <td>2.743213e+08</td>\n",
              "      <td>40.913060</td>\n",
              "      <td>-73.712990</td>\n",
              "      <td>364.000000</td>\n",
              "      <td>629.000000</td>\n",
              "      <td>58.500000</td>\n",
              "      <td>327.000000</td>\n",
              "      <td>365.000000</td>\n",
              "      <td>10000.000000</td>\n",
              "    </tr>\n",
              "  </tbody>\n",
              "</table>\n",
              "</div>\n",
              "      <button class=\"colab-df-convert\" onclick=\"convertToInteractive('df-08afce63-eaad-4a36-9702-32e98b478a47')\"\n",
              "              title=\"Convert this dataframe to an interactive table.\"\n",
              "              style=\"display:none;\">\n",
              "        \n",
              "  <svg xmlns=\"http://www.w3.org/2000/svg\" height=\"24px\"viewBox=\"0 0 24 24\"\n",
              "       width=\"24px\">\n",
              "    <path d=\"M0 0h24v24H0V0z\" fill=\"none\"/>\n",
              "    <path d=\"M18.56 5.44l.94 2.06.94-2.06 2.06-.94-2.06-.94-.94-2.06-.94 2.06-2.06.94zm-11 1L8.5 8.5l.94-2.06 2.06-.94-2.06-.94L8.5 2.5l-.94 2.06-2.06.94zm10 10l.94 2.06.94-2.06 2.06-.94-2.06-.94-.94-2.06-.94 2.06-2.06.94z\"/><path d=\"M17.41 7.96l-1.37-1.37c-.4-.4-.92-.59-1.43-.59-.52 0-1.04.2-1.43.59L10.3 9.45l-7.72 7.72c-.78.78-.78 2.05 0 2.83L4 21.41c.39.39.9.59 1.41.59.51 0 1.02-.2 1.41-.59l7.78-7.78 2.81-2.81c.8-.78.8-2.07 0-2.86zM5.41 20L4 18.59l7.72-7.72 1.47 1.35L5.41 20z\"/>\n",
              "  </svg>\n",
              "      </button>\n",
              "      \n",
              "  <style>\n",
              "    .colab-df-container {\n",
              "      display:flex;\n",
              "      flex-wrap:wrap;\n",
              "      gap: 12px;\n",
              "    }\n",
              "\n",
              "    .colab-df-convert {\n",
              "      background-color: #E8F0FE;\n",
              "      border: none;\n",
              "      border-radius: 50%;\n",
              "      cursor: pointer;\n",
              "      display: none;\n",
              "      fill: #1967D2;\n",
              "      height: 32px;\n",
              "      padding: 0 0 0 0;\n",
              "      width: 32px;\n",
              "    }\n",
              "\n",
              "    .colab-df-convert:hover {\n",
              "      background-color: #E2EBFA;\n",
              "      box-shadow: 0px 1px 2px rgba(60, 64, 67, 0.3), 0px 1px 3px 1px rgba(60, 64, 67, 0.15);\n",
              "      fill: #174EA6;\n",
              "    }\n",
              "\n",
              "    [theme=dark] .colab-df-convert {\n",
              "      background-color: #3B4455;\n",
              "      fill: #D2E3FC;\n",
              "    }\n",
              "\n",
              "    [theme=dark] .colab-df-convert:hover {\n",
              "      background-color: #434B5C;\n",
              "      box-shadow: 0px 1px 3px 1px rgba(0, 0, 0, 0.15);\n",
              "      filter: drop-shadow(0px 1px 2px rgba(0, 0, 0, 0.3));\n",
              "      fill: #FFFFFF;\n",
              "    }\n",
              "  </style>\n",
              "\n",
              "      <script>\n",
              "        const buttonEl =\n",
              "          document.querySelector('#df-08afce63-eaad-4a36-9702-32e98b478a47 button.colab-df-convert');\n",
              "        buttonEl.style.display =\n",
              "          google.colab.kernel.accessAllowed ? 'block' : 'none';\n",
              "\n",
              "        async function convertToInteractive(key) {\n",
              "          const element = document.querySelector('#df-08afce63-eaad-4a36-9702-32e98b478a47');\n",
              "          const dataTable =\n",
              "            await google.colab.kernel.invokeFunction('convertToInteractive',\n",
              "                                                     [key], {});\n",
              "          if (!dataTable) return;\n",
              "\n",
              "          const docLinkHtml = 'Like what you see? Visit the ' +\n",
              "            '<a target=\"_blank\" href=https://colab.research.google.com/notebooks/data_table.ipynb>data table notebook</a>'\n",
              "            + ' to learn more about interactive tables.';\n",
              "          element.innerHTML = '';\n",
              "          dataTable['output_type'] = 'display_data';\n",
              "          await google.colab.output.renderOutput(dataTable, element);\n",
              "          const docLink = document.createElement('div');\n",
              "          docLink.innerHTML = docLinkHtml;\n",
              "          element.appendChild(docLink);\n",
              "        }\n",
              "      </script>\n",
              "    </div>\n",
              "  </div>\n",
              "  "
            ],
            "text/plain": [
              "         listing_id       host_id      latitude     longitude  minimum_nights  \\\n",
              "count  4.886300e+04  4.886200e+04  48863.000000  48861.000000    48863.000000   \n",
              "mean   1.901845e+07  6.763310e+07     40.728950    -73.952158        6.630354   \n",
              "std    1.098382e+07  7.861868e+07      0.054532      0.046158       13.959867   \n",
              "min    2.539000e+03  2.438000e+03     40.499790    -74.244420        1.000000   \n",
              "25%    9.472744e+06  7.822737e+06     40.690090    -73.983070        1.000000   \n",
              "50%    1.968202e+07  3.080252e+07     40.723080    -73.955680        3.000000   \n",
              "75%    2.915256e+07  1.074344e+08     40.763130    -73.936230        5.000000   \n",
              "max    3.648724e+07  2.743213e+08     40.913060    -73.712990      364.000000   \n",
              "\n",
              "       number_of_reviews  reviews_per_month  calculated_host_listings_count  \\\n",
              "count       48860.000000       38829.000000                    48863.000000   \n",
              "mean           23.298731           1.373789                        7.147617   \n",
              "std            44.574438           1.680554                       32.962901   \n",
              "min             0.000000           0.010000                        1.000000   \n",
              "25%             1.000000           0.190000                        1.000000   \n",
              "50%             5.000000           0.720000                        1.000000   \n",
              "75%            24.000000           2.020000                        2.000000   \n",
              "max           629.000000          58.500000                      327.000000   \n",
              "\n",
              "       availability_365         price  \n",
              "count      48863.000000  48863.000000  \n",
              "mean         112.665534    152.603381  \n",
              "std          131.549568    239.833686  \n",
              "min            0.000000      0.000000  \n",
              "25%            0.000000     69.000000  \n",
              "50%           45.000000    106.000000  \n",
              "75%          226.000000    175.000000  \n",
              "max          365.000000  10000.000000  "
            ]
          },
          "execution_count": 68,
          "metadata": {},
          "output_type": "execute_result"
        }
      ],
      "source": [
        "df.describe()"
      ]
    },
    {
      "cell_type": "markdown",
      "metadata": {
        "id": "b88xITkxK8Pc"
      },
      "source": [
        "On average, the minimum required nights spent is 6.63 and the maximum allowed is 23.29. There are 48,860 total reviews. The median price is $106 (assumed currency)."
      ]
    },
    {
      "cell_type": "code",
      "execution_count": null,
      "metadata": {
        "colab": {
          "background_save": true
        },
        "id": "_neNPVTXLgZS",
        "outputId": "5a865a37-99c3-424e-c28f-65fea576dab5"
      },
      "outputs": [
        {
          "name": "stdout",
          "output_type": "stream",
          "text": [
            "<class 'pandas.core.frame.DataFrame'>\n",
            "RangeIndex: 48863 entries, 0 to 48862\n",
            "Data columns (total 16 columns):\n",
            " #   Column                          Non-Null Count  Dtype  \n",
            "---  ------                          --------------  -----  \n",
            " 0   listing_id                      48863 non-null  int64  \n",
            " 1   name                            48848 non-null  object \n",
            " 2   host_id                         48862 non-null  float64\n",
            " 3   host_name                       48840 non-null  object \n",
            " 4   neighbourhood_group             48862 non-null  object \n",
            " 5   neighbourhood                   48863 non-null  object \n",
            " 6   latitude                        48863 non-null  float64\n",
            " 7   longitude                       48861 non-null  float64\n",
            " 8   room_type                       48862 non-null  object \n",
            " 9   minimum_nights                  48863 non-null  int64  \n",
            " 10  number_of_reviews               48860 non-null  float64\n",
            " 11  last_review                     38826 non-null  object \n",
            " 12  reviews_per_month               38829 non-null  float64\n",
            " 13  calculated_host_listings_count  48863 non-null  int64  \n",
            " 14  availability_365                48863 non-null  int64  \n",
            " 15  price                           48863 non-null  int64  \n",
            "dtypes: float64(5), int64(5), object(6)\n",
            "memory usage: 6.0+ MB\n"
          ]
        }
      ],
      "source": [
        "df.info()"
      ]
    },
    {
      "cell_type": "code",
      "execution_count": null,
      "metadata": {
        "colab": {
          "background_save": true
        },
        "id": "7OfyYMtjLnq2",
        "outputId": "44de8aa8-67bd-4a27-c9cd-970ee9017170"
      },
      "outputs": [
        {
          "name": "stderr",
          "output_type": "stream",
          "text": [
            "<ipython-input-70-9e046fc10072>:1: FutureWarning: Indexing with multiple keys (implicitly converted to a tuple of keys) will be deprecated, use a list instead.\n",
            "  df.groupby(\"neighbourhood_group\")[\"price\", \"reviews_per_month\"].mean()\n"
          ]
        },
        {
          "data": {
            "text/html": [
              "\n",
              "  <div id=\"df-7fae1c26-312a-414b-9076-d4c3591f6fae\">\n",
              "    <div class=\"colab-df-container\">\n",
              "      <div>\n",
              "<style scoped>\n",
              "    .dataframe tbody tr th:only-of-type {\n",
              "        vertical-align: middle;\n",
              "    }\n",
              "\n",
              "    .dataframe tbody tr th {\n",
              "        vertical-align: top;\n",
              "    }\n",
              "\n",
              "    .dataframe thead th {\n",
              "        text-align: right;\n",
              "    }\n",
              "</style>\n",
              "<table border=\"1\" class=\"dataframe\">\n",
              "  <thead>\n",
              "    <tr style=\"text-align: right;\">\n",
              "      <th></th>\n",
              "      <th>price</th>\n",
              "      <th>reviews_per_month</th>\n",
              "    </tr>\n",
              "    <tr>\n",
              "      <th>neighbourhood_group</th>\n",
              "      <th></th>\n",
              "      <th></th>\n",
              "    </tr>\n",
              "  </thead>\n",
              "  <tbody>\n",
              "    <tr>\n",
              "      <th>Bronx</th>\n",
              "      <td>87.453297</td>\n",
              "      <td>1.836948</td>\n",
              "    </tr>\n",
              "    <tr>\n",
              "      <th>Brooklyn</th>\n",
              "      <td>124.318799</td>\n",
              "      <td>1.283765</td>\n",
              "    </tr>\n",
              "    <tr>\n",
              "      <th>Manhattan</th>\n",
              "      <td>196.875167</td>\n",
              "      <td>1.272835</td>\n",
              "    </tr>\n",
              "    <tr>\n",
              "      <th>Queens</th>\n",
              "      <td>98.760862</td>\n",
              "      <td>1.941500</td>\n",
              "    </tr>\n",
              "    <tr>\n",
              "      <th>Staten_Island</th>\n",
              "      <td>114.852151</td>\n",
              "      <td>1.872580</td>\n",
              "    </tr>\n",
              "  </tbody>\n",
              "</table>\n",
              "</div>\n",
              "      <button class=\"colab-df-convert\" onclick=\"convertToInteractive('df-7fae1c26-312a-414b-9076-d4c3591f6fae')\"\n",
              "              title=\"Convert this dataframe to an interactive table.\"\n",
              "              style=\"display:none;\">\n",
              "        \n",
              "  <svg xmlns=\"http://www.w3.org/2000/svg\" height=\"24px\"viewBox=\"0 0 24 24\"\n",
              "       width=\"24px\">\n",
              "    <path d=\"M0 0h24v24H0V0z\" fill=\"none\"/>\n",
              "    <path d=\"M18.56 5.44l.94 2.06.94-2.06 2.06-.94-2.06-.94-.94-2.06-.94 2.06-2.06.94zm-11 1L8.5 8.5l.94-2.06 2.06-.94-2.06-.94L8.5 2.5l-.94 2.06-2.06.94zm10 10l.94 2.06.94-2.06 2.06-.94-2.06-.94-.94-2.06-.94 2.06-2.06.94z\"/><path d=\"M17.41 7.96l-1.37-1.37c-.4-.4-.92-.59-1.43-.59-.52 0-1.04.2-1.43.59L10.3 9.45l-7.72 7.72c-.78.78-.78 2.05 0 2.83L4 21.41c.39.39.9.59 1.41.59.51 0 1.02-.2 1.41-.59l7.78-7.78 2.81-2.81c.8-.78.8-2.07 0-2.86zM5.41 20L4 18.59l7.72-7.72 1.47 1.35L5.41 20z\"/>\n",
              "  </svg>\n",
              "      </button>\n",
              "      \n",
              "  <style>\n",
              "    .colab-df-container {\n",
              "      display:flex;\n",
              "      flex-wrap:wrap;\n",
              "      gap: 12px;\n",
              "    }\n",
              "\n",
              "    .colab-df-convert {\n",
              "      background-color: #E8F0FE;\n",
              "      border: none;\n",
              "      border-radius: 50%;\n",
              "      cursor: pointer;\n",
              "      display: none;\n",
              "      fill: #1967D2;\n",
              "      height: 32px;\n",
              "      padding: 0 0 0 0;\n",
              "      width: 32px;\n",
              "    }\n",
              "\n",
              "    .colab-df-convert:hover {\n",
              "      background-color: #E2EBFA;\n",
              "      box-shadow: 0px 1px 2px rgba(60, 64, 67, 0.3), 0px 1px 3px 1px rgba(60, 64, 67, 0.15);\n",
              "      fill: #174EA6;\n",
              "    }\n",
              "\n",
              "    [theme=dark] .colab-df-convert {\n",
              "      background-color: #3B4455;\n",
              "      fill: #D2E3FC;\n",
              "    }\n",
              "\n",
              "    [theme=dark] .colab-df-convert:hover {\n",
              "      background-color: #434B5C;\n",
              "      box-shadow: 0px 1px 3px 1px rgba(0, 0, 0, 0.15);\n",
              "      filter: drop-shadow(0px 1px 2px rgba(0, 0, 0, 0.3));\n",
              "      fill: #FFFFFF;\n",
              "    }\n",
              "  </style>\n",
              "\n",
              "      <script>\n",
              "        const buttonEl =\n",
              "          document.querySelector('#df-7fae1c26-312a-414b-9076-d4c3591f6fae button.colab-df-convert');\n",
              "        buttonEl.style.display =\n",
              "          google.colab.kernel.accessAllowed ? 'block' : 'none';\n",
              "\n",
              "        async function convertToInteractive(key) {\n",
              "          const element = document.querySelector('#df-7fae1c26-312a-414b-9076-d4c3591f6fae');\n",
              "          const dataTable =\n",
              "            await google.colab.kernel.invokeFunction('convertToInteractive',\n",
              "                                                     [key], {});\n",
              "          if (!dataTable) return;\n",
              "\n",
              "          const docLinkHtml = 'Like what you see? Visit the ' +\n",
              "            '<a target=\"_blank\" href=https://colab.research.google.com/notebooks/data_table.ipynb>data table notebook</a>'\n",
              "            + ' to learn more about interactive tables.';\n",
              "          element.innerHTML = '';\n",
              "          dataTable['output_type'] = 'display_data';\n",
              "          await google.colab.output.renderOutput(dataTable, element);\n",
              "          const docLink = document.createElement('div');\n",
              "          docLink.innerHTML = docLinkHtml;\n",
              "          element.appendChild(docLink);\n",
              "        }\n",
              "      </script>\n",
              "    </div>\n",
              "  </div>\n",
              "  "
            ],
            "text/plain": [
              "                          price  reviews_per_month\n",
              "neighbourhood_group                               \n",
              "Bronx                 87.453297           1.836948\n",
              "Brooklyn             124.318799           1.283765\n",
              "Manhattan            196.875167           1.272835\n",
              "Queens                98.760862           1.941500\n",
              "Staten_Island        114.852151           1.872580"
            ]
          },
          "execution_count": 70,
          "metadata": {},
          "output_type": "execute_result"
        }
      ],
      "source": [
        "df.groupby(\"neighbourhood_group\")[\"price\", \"reviews_per_month\"].mean()"
      ]
    },
    {
      "cell_type": "markdown",
      "metadata": {
        "id": "LVJv7u8oMWs3"
      },
      "source": [
        "From this output, we can tell that staying in the Bronx is the cheapest and Manhattan is the most expensive. People who stay in Queens tend to write the most reviews per month."
      ]
    },
    {
      "cell_type": "code",
      "execution_count": null,
      "metadata": {
        "colab": {
          "background_save": true
        },
        "id": "2FVFCr8PMia_",
        "outputId": "53732f4d-08fd-4a05-bc11-8f9307c6b1ef"
      },
      "outputs": [
        {
          "data": {
            "text/plain": [
              "Manhattan        0.442982\n",
              "Brooklyn         0.411178\n",
              "Queens           0.115877\n",
              "Bronx            0.022349\n",
              "Staten_Island    0.007613\n",
              "Name: neighbourhood_group, dtype: float64"
            ]
          },
          "execution_count": 71,
          "metadata": {},
          "output_type": "execute_result"
        }
      ],
      "source": [
        "df[\"neighbourhood_group\"].value_counts(normalize = True)"
      ]
    },
    {
      "cell_type": "code",
      "execution_count": null,
      "metadata": {
        "colab": {
          "background_save": true
        },
        "id": "MrFNU6-qNMHk",
        "outputId": "b832df68-dfed-4871-de6f-b5691d626aaf"
      },
      "outputs": [
        {
          "data": {
            "text/plain": [
              "Entire_home/apt    0.519524\n",
              "Private_room       0.456756\n",
              "Shared_room        0.023720\n",
              "Name: room_type, dtype: float64"
            ]
          },
          "execution_count": 72,
          "metadata": {},
          "output_type": "execute_result"
        }
      ],
      "source": [
        "df[\"room_type\"].value_counts(normalize = True)"
      ]
    },
    {
      "cell_type": "markdown",
      "metadata": {
        "id": "BON6DOJANP6n"
      },
      "source": [
        "This shows us that nearly 85% of AirBnBs are in Manhattan and Brooklyn. Also, 52% of AirBnBs are entire home/apartment rentals."
      ]
    },
    {
      "cell_type": "code",
      "execution_count": null,
      "metadata": {
        "colab": {
          "background_save": true
        },
        "id": "E9tKg2wn3oQf"
      },
      "outputs": [],
      "source": [
        "df = df.drop(columns = ['last_review','reviews_per_month'])"
      ]
    },
    {
      "cell_type": "code",
      "execution_count": null,
      "metadata": {
        "colab": {
          "background_save": true
        },
        "id": "IoVb5xVjNg3c",
        "outputId": "1f14cb6c-6de8-4841-ba79-3e0a641e3da9"
      },
      "outputs": [
        {
          "data": {
            "text/plain": [
              "listing_id                         0\n",
              "name                              15\n",
              "host_id                            1\n",
              "host_name                         23\n",
              "neighbourhood_group                1\n",
              "neighbourhood                      0\n",
              "latitude                           0\n",
              "longitude                          2\n",
              "room_type                          1\n",
              "minimum_nights                     0\n",
              "number_of_reviews                  3\n",
              "calculated_host_listings_count     0\n",
              "availability_365                   0\n",
              "price                              0\n",
              "dtype: int64"
            ]
          },
          "execution_count": 74,
          "metadata": {},
          "output_type": "execute_result"
        }
      ],
      "source": [
        "df.isnull().sum()"
      ]
    },
    {
      "cell_type": "code",
      "execution_count": null,
      "metadata": {
        "colab": {
          "background_save": true
        },
        "id": "VQnL3XwZNlsT"
      },
      "outputs": [],
      "source": [
        "df.dropna(inplace = True)"
      ]
    },
    {
      "cell_type": "code",
      "execution_count": null,
      "metadata": {
        "colab": {
          "background_save": true
        },
        "id": "3Vrx-DX7NqWu",
        "outputId": "8621f65a-f85c-456f-e00c-631fe0a9252a"
      },
      "outputs": [
        {
          "data": {
            "text/plain": [
              "listing_id                        0\n",
              "name                              0\n",
              "host_id                           0\n",
              "host_name                         0\n",
              "neighbourhood_group               0\n",
              "neighbourhood                     0\n",
              "latitude                          0\n",
              "longitude                         0\n",
              "room_type                         0\n",
              "minimum_nights                    0\n",
              "number_of_reviews                 0\n",
              "calculated_host_listings_count    0\n",
              "availability_365                  0\n",
              "price                             0\n",
              "dtype: int64"
            ]
          },
          "execution_count": 76,
          "metadata": {},
          "output_type": "execute_result"
        }
      ],
      "source": [
        "df.isnull().sum()"
      ]
    },
    {
      "cell_type": "markdown",
      "metadata": {
        "id": "bKmBL28ZNwdd"
      },
      "source": [
        "Before handling the missing values, the variable \"host_name\" had the most missing values. We dropped columns last_review and reviews_per_month so those variables we not included in the count of missing values."
      ]
    },
    {
      "cell_type": "code",
      "execution_count": null,
      "metadata": {
        "colab": {
          "background_save": true
        },
        "id": "Loz9-LnKN8Ag",
        "outputId": "ebd015ff-b5d1-4ed3-b783-91bf10deb58f"
      },
      "outputs": [
        {
          "data": {
            "text/plain": [
              "11"
            ]
          },
          "execution_count": 77,
          "metadata": {},
          "output_type": "execute_result"
        }
      ],
      "source": [
        "df.duplicated().sum()"
      ]
    },
    {
      "cell_type": "code",
      "execution_count": null,
      "metadata": {
        "colab": {
          "background_save": true
        },
        "id": "l6F71BHuOPtc"
      },
      "outputs": [],
      "source": [
        "df.drop_duplicates(inplace = True)"
      ]
    },
    {
      "cell_type": "code",
      "execution_count": null,
      "metadata": {
        "colab": {
          "background_save": true
        },
        "id": "mimGhD9KOTUf",
        "outputId": "ae074a55-533e-4520-9b05-da21a66e4721"
      },
      "outputs": [
        {
          "data": {
            "text/plain": [
              "0"
            ]
          },
          "execution_count": 79,
          "metadata": {},
          "output_type": "execute_result"
        }
      ],
      "source": [
        "df.duplicated().sum()"
      ]
    },
    {
      "cell_type": "markdown",
      "metadata": {
        "id": "-RXTPeSbOVSd"
      },
      "source": [
        "Before dropping the duplicated values, there were 11."
      ]
    },
    {
      "cell_type": "code",
      "execution_count": null,
      "metadata": {
        "colab": {
          "background_save": true
        },
        "id": "qPbqFaaIObfr",
        "outputId": "d69e4822-4a85-4971-9935-20f787ddaa37"
      },
      "outputs": [
        {
          "data": {
            "text/html": [
              "\n",
              "  <div id=\"df-6a5a102a-b89d-4979-b4bf-2a950b3e2bad\">\n",
              "    <div class=\"colab-df-container\">\n",
              "      <div>\n",
              "<style scoped>\n",
              "    .dataframe tbody tr th:only-of-type {\n",
              "        vertical-align: middle;\n",
              "    }\n",
              "\n",
              "    .dataframe tbody tr th {\n",
              "        vertical-align: top;\n",
              "    }\n",
              "\n",
              "    .dataframe thead th {\n",
              "        text-align: right;\n",
              "    }\n",
              "</style>\n",
              "<table border=\"1\" class=\"dataframe\">\n",
              "  <thead>\n",
              "    <tr style=\"text-align: right;\">\n",
              "      <th></th>\n",
              "      <th>listing_id</th>\n",
              "      <th>name</th>\n",
              "      <th>host_id</th>\n",
              "      <th>host_name</th>\n",
              "      <th>neighbourhood_group</th>\n",
              "      <th>neighbourhood</th>\n",
              "      <th>latitude</th>\n",
              "      <th>longitude</th>\n",
              "      <th>room_type</th>\n",
              "      <th>minimum_nights</th>\n",
              "      <th>number_of_reviews</th>\n",
              "      <th>calculated_host_listings_count</th>\n",
              "      <th>availability_365</th>\n",
              "      <th>price</th>\n",
              "    </tr>\n",
              "  </thead>\n",
              "  <tbody>\n",
              "    <tr>\n",
              "      <th>0</th>\n",
              "      <td>2539</td>\n",
              "      <td>Clean_&amp;_quiet_apt_home_by_the_park</td>\n",
              "      <td>2787.0</td>\n",
              "      <td>John</td>\n",
              "      <td>Brooklyn</td>\n",
              "      <td>Kensington</td>\n",
              "      <td>40.64749</td>\n",
              "      <td>-73.97237</td>\n",
              "      <td>Private_room</td>\n",
              "      <td>1</td>\n",
              "      <td>9.0</td>\n",
              "      <td>6</td>\n",
              "      <td>365</td>\n",
              "      <td>149</td>\n",
              "    </tr>\n",
              "    <tr>\n",
              "      <th>2</th>\n",
              "      <td>2595</td>\n",
              "      <td>Skylit_Midtown_Castle</td>\n",
              "      <td>2845.0</td>\n",
              "      <td>Jennifer</td>\n",
              "      <td>Manhattan</td>\n",
              "      <td>Midtown</td>\n",
              "      <td>40.75362</td>\n",
              "      <td>-73.98377</td>\n",
              "      <td>Entire_home/apt</td>\n",
              "      <td>1</td>\n",
              "      <td>45.0</td>\n",
              "      <td>2</td>\n",
              "      <td>355</td>\n",
              "      <td>225</td>\n",
              "    </tr>\n",
              "    <tr>\n",
              "      <th>3</th>\n",
              "      <td>3647</td>\n",
              "      <td>THE_VILLAGE_OF_HARLEM....NEW_YORK_!</td>\n",
              "      <td>4632.0</td>\n",
              "      <td>Elisabeth</td>\n",
              "      <td>Manhattan</td>\n",
              "      <td>Harlem</td>\n",
              "      <td>40.80902</td>\n",
              "      <td>-73.94190</td>\n",
              "      <td>Private_room</td>\n",
              "      <td>3</td>\n",
              "      <td>0.0</td>\n",
              "      <td>1</td>\n",
              "      <td>365</td>\n",
              "      <td>150</td>\n",
              "    </tr>\n",
              "    <tr>\n",
              "      <th>4</th>\n",
              "      <td>3831</td>\n",
              "      <td>Cozy_Entire_Floor_of_Brownstone</td>\n",
              "      <td>4869.0</td>\n",
              "      <td>LisaRoxanne</td>\n",
              "      <td>Brooklyn</td>\n",
              "      <td>Clinton_Hill</td>\n",
              "      <td>40.68514</td>\n",
              "      <td>-73.95976</td>\n",
              "      <td>Entire_home/apt</td>\n",
              "      <td>1</td>\n",
              "      <td>270.0</td>\n",
              "      <td>1</td>\n",
              "      <td>194</td>\n",
              "      <td>89</td>\n",
              "    </tr>\n",
              "    <tr>\n",
              "      <th>5</th>\n",
              "      <td>5022</td>\n",
              "      <td>Entire_Apt:_Spacious_Studio/Loft_by_central_park</td>\n",
              "      <td>7192.0</td>\n",
              "      <td>Laura</td>\n",
              "      <td>Manhattan</td>\n",
              "      <td>East_Harlem</td>\n",
              "      <td>40.79851</td>\n",
              "      <td>-73.94399</td>\n",
              "      <td>Entire_home/apt</td>\n",
              "      <td>10</td>\n",
              "      <td>9.0</td>\n",
              "      <td>1</td>\n",
              "      <td>0</td>\n",
              "      <td>80</td>\n",
              "    </tr>\n",
              "  </tbody>\n",
              "</table>\n",
              "</div>\n",
              "      <button class=\"colab-df-convert\" onclick=\"convertToInteractive('df-6a5a102a-b89d-4979-b4bf-2a950b3e2bad')\"\n",
              "              title=\"Convert this dataframe to an interactive table.\"\n",
              "              style=\"display:none;\">\n",
              "        \n",
              "  <svg xmlns=\"http://www.w3.org/2000/svg\" height=\"24px\"viewBox=\"0 0 24 24\"\n",
              "       width=\"24px\">\n",
              "    <path d=\"M0 0h24v24H0V0z\" fill=\"none\"/>\n",
              "    <path d=\"M18.56 5.44l.94 2.06.94-2.06 2.06-.94-2.06-.94-.94-2.06-.94 2.06-2.06.94zm-11 1L8.5 8.5l.94-2.06 2.06-.94-2.06-.94L8.5 2.5l-.94 2.06-2.06.94zm10 10l.94 2.06.94-2.06 2.06-.94-2.06-.94-.94-2.06-.94 2.06-2.06.94z\"/><path d=\"M17.41 7.96l-1.37-1.37c-.4-.4-.92-.59-1.43-.59-.52 0-1.04.2-1.43.59L10.3 9.45l-7.72 7.72c-.78.78-.78 2.05 0 2.83L4 21.41c.39.39.9.59 1.41.59.51 0 1.02-.2 1.41-.59l7.78-7.78 2.81-2.81c.8-.78.8-2.07 0-2.86zM5.41 20L4 18.59l7.72-7.72 1.47 1.35L5.41 20z\"/>\n",
              "  </svg>\n",
              "      </button>\n",
              "      \n",
              "  <style>\n",
              "    .colab-df-container {\n",
              "      display:flex;\n",
              "      flex-wrap:wrap;\n",
              "      gap: 12px;\n",
              "    }\n",
              "\n",
              "    .colab-df-convert {\n",
              "      background-color: #E8F0FE;\n",
              "      border: none;\n",
              "      border-radius: 50%;\n",
              "      cursor: pointer;\n",
              "      display: none;\n",
              "      fill: #1967D2;\n",
              "      height: 32px;\n",
              "      padding: 0 0 0 0;\n",
              "      width: 32px;\n",
              "    }\n",
              "\n",
              "    .colab-df-convert:hover {\n",
              "      background-color: #E2EBFA;\n",
              "      box-shadow: 0px 1px 2px rgba(60, 64, 67, 0.3), 0px 1px 3px 1px rgba(60, 64, 67, 0.15);\n",
              "      fill: #174EA6;\n",
              "    }\n",
              "\n",
              "    [theme=dark] .colab-df-convert {\n",
              "      background-color: #3B4455;\n",
              "      fill: #D2E3FC;\n",
              "    }\n",
              "\n",
              "    [theme=dark] .colab-df-convert:hover {\n",
              "      background-color: #434B5C;\n",
              "      box-shadow: 0px 1px 3px 1px rgba(0, 0, 0, 0.15);\n",
              "      filter: drop-shadow(0px 1px 2px rgba(0, 0, 0, 0.3));\n",
              "      fill: #FFFFFF;\n",
              "    }\n",
              "  </style>\n",
              "\n",
              "      <script>\n",
              "        const buttonEl =\n",
              "          document.querySelector('#df-6a5a102a-b89d-4979-b4bf-2a950b3e2bad button.colab-df-convert');\n",
              "        buttonEl.style.display =\n",
              "          google.colab.kernel.accessAllowed ? 'block' : 'none';\n",
              "\n",
              "        async function convertToInteractive(key) {\n",
              "          const element = document.querySelector('#df-6a5a102a-b89d-4979-b4bf-2a950b3e2bad');\n",
              "          const dataTable =\n",
              "            await google.colab.kernel.invokeFunction('convertToInteractive',\n",
              "                                                     [key], {});\n",
              "          if (!dataTable) return;\n",
              "\n",
              "          const docLinkHtml = 'Like what you see? Visit the ' +\n",
              "            '<a target=\"_blank\" href=https://colab.research.google.com/notebooks/data_table.ipynb>data table notebook</a>'\n",
              "            + ' to learn more about interactive tables.';\n",
              "          element.innerHTML = '';\n",
              "          dataTable['output_type'] = 'display_data';\n",
              "          await google.colab.output.renderOutput(dataTable, element);\n",
              "          const docLink = document.createElement('div');\n",
              "          docLink.innerHTML = docLinkHtml;\n",
              "          element.appendChild(docLink);\n",
              "        }\n",
              "      </script>\n",
              "    </div>\n",
              "  </div>\n",
              "  "
            ],
            "text/plain": [
              "   listing_id                                              name  host_id  \\\n",
              "0        2539                Clean_&_quiet_apt_home_by_the_park   2787.0   \n",
              "2        2595                             Skylit_Midtown_Castle   2845.0   \n",
              "3        3647               THE_VILLAGE_OF_HARLEM....NEW_YORK_!   4632.0   \n",
              "4        3831                   Cozy_Entire_Floor_of_Brownstone   4869.0   \n",
              "5        5022  Entire_Apt:_Spacious_Studio/Loft_by_central_park   7192.0   \n",
              "\n",
              "     host_name neighbourhood_group neighbourhood  latitude  longitude  \\\n",
              "0         John            Brooklyn    Kensington  40.64749  -73.97237   \n",
              "2     Jennifer           Manhattan       Midtown  40.75362  -73.98377   \n",
              "3    Elisabeth           Manhattan        Harlem  40.80902  -73.94190   \n",
              "4  LisaRoxanne            Brooklyn  Clinton_Hill  40.68514  -73.95976   \n",
              "5        Laura           Manhattan   East_Harlem  40.79851  -73.94399   \n",
              "\n",
              "         room_type  minimum_nights  number_of_reviews  \\\n",
              "0     Private_room               1                9.0   \n",
              "2  Entire_home/apt               1               45.0   \n",
              "3     Private_room               3                0.0   \n",
              "4  Entire_home/apt               1              270.0   \n",
              "5  Entire_home/apt              10                9.0   \n",
              "\n",
              "   calculated_host_listings_count  availability_365  price  \n",
              "0                               6               365    149  \n",
              "2                               2               355    225  \n",
              "3                               1               365    150  \n",
              "4                               1               194     89  \n",
              "5                               1                 0     80  "
            ]
          },
          "execution_count": 80,
          "metadata": {},
          "output_type": "execute_result"
        }
      ],
      "source": [
        "df.head()"
      ]
    },
    {
      "cell_type": "markdown",
      "metadata": {
        "id": "kp5uRm-kR2V_"
      },
      "source": [
        "The following variables do not contain useful or relevant information: listing_id and host_id."
      ]
    },
    {
      "cell_type": "code",
      "execution_count": null,
      "metadata": {
        "colab": {
          "background_save": true
        },
        "id": "jwqc2yfnSEJy"
      },
      "outputs": [],
      "source": [
        "df = df.drop(columns = ['host_id', 'listing_id'])"
      ]
    },
    {
      "cell_type": "code",
      "execution_count": null,
      "metadata": {
        "colab": {
          "background_save": true
        },
        "id": "ETo_ix1IUQb8",
        "outputId": "e8d916b9-cae6-4945-d7a6-470c17ac0a51"
      },
      "outputs": [
        {
          "data": {
            "text/html": [
              "\n",
              "  <div id=\"df-79f99a17-6746-4af5-809d-12c8df997976\">\n",
              "    <div class=\"colab-df-container\">\n",
              "      <div>\n",
              "<style scoped>\n",
              "    .dataframe tbody tr th:only-of-type {\n",
              "        vertical-align: middle;\n",
              "    }\n",
              "\n",
              "    .dataframe tbody tr th {\n",
              "        vertical-align: top;\n",
              "    }\n",
              "\n",
              "    .dataframe thead th {\n",
              "        text-align: right;\n",
              "    }\n",
              "</style>\n",
              "<table border=\"1\" class=\"dataframe\">\n",
              "  <thead>\n",
              "    <tr style=\"text-align: right;\">\n",
              "      <th></th>\n",
              "      <th>name</th>\n",
              "      <th>host_name</th>\n",
              "      <th>neighbourhood_group</th>\n",
              "      <th>neighbourhood</th>\n",
              "      <th>latitude</th>\n",
              "      <th>longitude</th>\n",
              "      <th>room_type</th>\n",
              "      <th>minimum_nights</th>\n",
              "      <th>number_of_reviews</th>\n",
              "      <th>calculated_host_listings_count</th>\n",
              "      <th>availability_365</th>\n",
              "      <th>price</th>\n",
              "    </tr>\n",
              "  </thead>\n",
              "  <tbody>\n",
              "    <tr>\n",
              "      <th>0</th>\n",
              "      <td>Clean_&amp;_quiet_apt_home_by_the_park</td>\n",
              "      <td>John</td>\n",
              "      <td>Brooklyn</td>\n",
              "      <td>Kensington</td>\n",
              "      <td>40.64749</td>\n",
              "      <td>-73.97237</td>\n",
              "      <td>Private_room</td>\n",
              "      <td>1</td>\n",
              "      <td>9.0</td>\n",
              "      <td>6</td>\n",
              "      <td>365</td>\n",
              "      <td>149</td>\n",
              "    </tr>\n",
              "    <tr>\n",
              "      <th>2</th>\n",
              "      <td>Skylit_Midtown_Castle</td>\n",
              "      <td>Jennifer</td>\n",
              "      <td>Manhattan</td>\n",
              "      <td>Midtown</td>\n",
              "      <td>40.75362</td>\n",
              "      <td>-73.98377</td>\n",
              "      <td>Entire_home/apt</td>\n",
              "      <td>1</td>\n",
              "      <td>45.0</td>\n",
              "      <td>2</td>\n",
              "      <td>355</td>\n",
              "      <td>225</td>\n",
              "    </tr>\n",
              "    <tr>\n",
              "      <th>3</th>\n",
              "      <td>THE_VILLAGE_OF_HARLEM....NEW_YORK_!</td>\n",
              "      <td>Elisabeth</td>\n",
              "      <td>Manhattan</td>\n",
              "      <td>Harlem</td>\n",
              "      <td>40.80902</td>\n",
              "      <td>-73.94190</td>\n",
              "      <td>Private_room</td>\n",
              "      <td>3</td>\n",
              "      <td>0.0</td>\n",
              "      <td>1</td>\n",
              "      <td>365</td>\n",
              "      <td>150</td>\n",
              "    </tr>\n",
              "    <tr>\n",
              "      <th>4</th>\n",
              "      <td>Cozy_Entire_Floor_of_Brownstone</td>\n",
              "      <td>LisaRoxanne</td>\n",
              "      <td>Brooklyn</td>\n",
              "      <td>Clinton_Hill</td>\n",
              "      <td>40.68514</td>\n",
              "      <td>-73.95976</td>\n",
              "      <td>Entire_home/apt</td>\n",
              "      <td>1</td>\n",
              "      <td>270.0</td>\n",
              "      <td>1</td>\n",
              "      <td>194</td>\n",
              "      <td>89</td>\n",
              "    </tr>\n",
              "    <tr>\n",
              "      <th>5</th>\n",
              "      <td>Entire_Apt:_Spacious_Studio/Loft_by_central_park</td>\n",
              "      <td>Laura</td>\n",
              "      <td>Manhattan</td>\n",
              "      <td>East_Harlem</td>\n",
              "      <td>40.79851</td>\n",
              "      <td>-73.94399</td>\n",
              "      <td>Entire_home/apt</td>\n",
              "      <td>10</td>\n",
              "      <td>9.0</td>\n",
              "      <td>1</td>\n",
              "      <td>0</td>\n",
              "      <td>80</td>\n",
              "    </tr>\n",
              "  </tbody>\n",
              "</table>\n",
              "</div>\n",
              "      <button class=\"colab-df-convert\" onclick=\"convertToInteractive('df-79f99a17-6746-4af5-809d-12c8df997976')\"\n",
              "              title=\"Convert this dataframe to an interactive table.\"\n",
              "              style=\"display:none;\">\n",
              "        \n",
              "  <svg xmlns=\"http://www.w3.org/2000/svg\" height=\"24px\"viewBox=\"0 0 24 24\"\n",
              "       width=\"24px\">\n",
              "    <path d=\"M0 0h24v24H0V0z\" fill=\"none\"/>\n",
              "    <path d=\"M18.56 5.44l.94 2.06.94-2.06 2.06-.94-2.06-.94-.94-2.06-.94 2.06-2.06.94zm-11 1L8.5 8.5l.94-2.06 2.06-.94-2.06-.94L8.5 2.5l-.94 2.06-2.06.94zm10 10l.94 2.06.94-2.06 2.06-.94-2.06-.94-.94-2.06-.94 2.06-2.06.94z\"/><path d=\"M17.41 7.96l-1.37-1.37c-.4-.4-.92-.59-1.43-.59-.52 0-1.04.2-1.43.59L10.3 9.45l-7.72 7.72c-.78.78-.78 2.05 0 2.83L4 21.41c.39.39.9.59 1.41.59.51 0 1.02-.2 1.41-.59l7.78-7.78 2.81-2.81c.8-.78.8-2.07 0-2.86zM5.41 20L4 18.59l7.72-7.72 1.47 1.35L5.41 20z\"/>\n",
              "  </svg>\n",
              "      </button>\n",
              "      \n",
              "  <style>\n",
              "    .colab-df-container {\n",
              "      display:flex;\n",
              "      flex-wrap:wrap;\n",
              "      gap: 12px;\n",
              "    }\n",
              "\n",
              "    .colab-df-convert {\n",
              "      background-color: #E8F0FE;\n",
              "      border: none;\n",
              "      border-radius: 50%;\n",
              "      cursor: pointer;\n",
              "      display: none;\n",
              "      fill: #1967D2;\n",
              "      height: 32px;\n",
              "      padding: 0 0 0 0;\n",
              "      width: 32px;\n",
              "    }\n",
              "\n",
              "    .colab-df-convert:hover {\n",
              "      background-color: #E2EBFA;\n",
              "      box-shadow: 0px 1px 2px rgba(60, 64, 67, 0.3), 0px 1px 3px 1px rgba(60, 64, 67, 0.15);\n",
              "      fill: #174EA6;\n",
              "    }\n",
              "\n",
              "    [theme=dark] .colab-df-convert {\n",
              "      background-color: #3B4455;\n",
              "      fill: #D2E3FC;\n",
              "    }\n",
              "\n",
              "    [theme=dark] .colab-df-convert:hover {\n",
              "      background-color: #434B5C;\n",
              "      box-shadow: 0px 1px 3px 1px rgba(0, 0, 0, 0.15);\n",
              "      filter: drop-shadow(0px 1px 2px rgba(0, 0, 0, 0.3));\n",
              "      fill: #FFFFFF;\n",
              "    }\n",
              "  </style>\n",
              "\n",
              "      <script>\n",
              "        const buttonEl =\n",
              "          document.querySelector('#df-79f99a17-6746-4af5-809d-12c8df997976 button.colab-df-convert');\n",
              "        buttonEl.style.display =\n",
              "          google.colab.kernel.accessAllowed ? 'block' : 'none';\n",
              "\n",
              "        async function convertToInteractive(key) {\n",
              "          const element = document.querySelector('#df-79f99a17-6746-4af5-809d-12c8df997976');\n",
              "          const dataTable =\n",
              "            await google.colab.kernel.invokeFunction('convertToInteractive',\n",
              "                                                     [key], {});\n",
              "          if (!dataTable) return;\n",
              "\n",
              "          const docLinkHtml = 'Like what you see? Visit the ' +\n",
              "            '<a target=\"_blank\" href=https://colab.research.google.com/notebooks/data_table.ipynb>data table notebook</a>'\n",
              "            + ' to learn more about interactive tables.';\n",
              "          element.innerHTML = '';\n",
              "          dataTable['output_type'] = 'display_data';\n",
              "          await google.colab.output.renderOutput(dataTable, element);\n",
              "          const docLink = document.createElement('div');\n",
              "          docLink.innerHTML = docLinkHtml;\n",
              "          element.appendChild(docLink);\n",
              "        }\n",
              "      </script>\n",
              "    </div>\n",
              "  </div>\n",
              "  "
            ],
            "text/plain": [
              "                                               name    host_name  \\\n",
              "0                Clean_&_quiet_apt_home_by_the_park         John   \n",
              "2                             Skylit_Midtown_Castle     Jennifer   \n",
              "3               THE_VILLAGE_OF_HARLEM....NEW_YORK_!    Elisabeth   \n",
              "4                   Cozy_Entire_Floor_of_Brownstone  LisaRoxanne   \n",
              "5  Entire_Apt:_Spacious_Studio/Loft_by_central_park        Laura   \n",
              "\n",
              "  neighbourhood_group neighbourhood  latitude  longitude        room_type  \\\n",
              "0            Brooklyn    Kensington  40.64749  -73.97237     Private_room   \n",
              "2           Manhattan       Midtown  40.75362  -73.98377  Entire_home/apt   \n",
              "3           Manhattan        Harlem  40.80902  -73.94190     Private_room   \n",
              "4            Brooklyn  Clinton_Hill  40.68514  -73.95976  Entire_home/apt   \n",
              "5           Manhattan   East_Harlem  40.79851  -73.94399  Entire_home/apt   \n",
              "\n",
              "   minimum_nights  number_of_reviews  calculated_host_listings_count  \\\n",
              "0               1                9.0                               6   \n",
              "2               1               45.0                               2   \n",
              "3               3                0.0                               1   \n",
              "4               1              270.0                               1   \n",
              "5              10                9.0                               1   \n",
              "\n",
              "   availability_365  price  \n",
              "0               365    149  \n",
              "2               355    225  \n",
              "3               365    150  \n",
              "4               194     89  \n",
              "5                 0     80  "
            ]
          },
          "execution_count": 82,
          "metadata": {},
          "output_type": "execute_result"
        }
      ],
      "source": [
        "df.head()"
      ]
    },
    {
      "cell_type": "markdown",
      "metadata": {
        "id": "9Wdm4rJ_UkxN"
      },
      "source": [
        "The outcome variable is *price*."
      ]
    },
    {
      "cell_type": "code",
      "execution_count": null,
      "metadata": {
        "colab": {
          "background_save": true
        },
        "id": "Kf8mOPzVU50l",
        "outputId": "abc6dbb4-5720-494b-ce10-c1c3625cec49"
      },
      "outputs": [
        {
          "data": {
            "text/plain": [
              "count    48807.000000\n",
              "mean       152.628803\n",
              "std        239.952136\n",
              "min          0.000000\n",
              "25%         69.000000\n",
              "50%        106.000000\n",
              "75%        175.000000\n",
              "max      10000.000000\n",
              "Name: price, dtype: float64"
            ]
          },
          "execution_count": 83,
          "metadata": {},
          "output_type": "execute_result"
        }
      ],
      "source": [
        "df[\"price\"].describe()"
      ]
    },
    {
      "cell_type": "markdown",
      "metadata": {
        "id": "xoHvn-LGU_F-"
      },
      "source": [
        "This is a regression problem because the outcome variable price is a continuous numerical outcome."
      ]
    },
    {
      "cell_type": "code",
      "execution_count": null,
      "metadata": {
        "colab": {
          "background_save": true
        },
        "id": "bIM5XXQp1T_d",
        "outputId": "2c2b6b62-080e-4b69-b498-b729da263730"
      },
      "outputs": [
        {
          "data": {
            "image/png": "[encoded data removed]",
            "text/plain": [
              "<Figure size 640x480 with 1 Axes>"
            ]
          },
          "metadata": {},
          "output_type": "display_data"
        }
      ],
      "source": [
        "sns.scatterplot(x=df[\"number_of_reviews\"], y=df[\"price\"])\n",
        "\n",
        "plt.xlabel(\"Number of Reviews\")\n",
        "plt.ylabel(\"Price\")\n",
        "plt.title(\"Relationship between Number of Reviews and Price\")\n",
        "\n",
        "plt.show()"
      ]
    },
    {
      "cell_type": "markdown",
      "metadata": {
        "id": "9Ar5m0gU18ND"
      },
      "source": [
        "This scatterplot shows that the more expensive AirBnBs tend to have less reviews. One inference we could make is that this is because less people have rented out the more expensive AirBnBs."
      ]
    },
    {
      "cell_type": "code",
      "execution_count": null,
      "metadata": {
        "colab": {
          "background_save": true
        },
        "id": "u2vm8YOZ2_Uf",
        "outputId": "443b37f9-4563-4924-f55a-f6deccddf4ec"
      },
      "outputs": [
        {
          "data": {
            "image/png": "[encoded data removed]",
            "text/plain": [
              "<Figure size 640x480 with 1 Axes>"
            ]
          },
          "metadata": {},
          "output_type": "display_data"
        }
      ],
      "source": [
        "sns.histplot(data =df[df[\"price\"]<1000], x = \"price\")\n",
        "\n",
        "plt.title('Price < 1000')\n",
        "plt.show()\n",
        "# df[df[var]<x]"
      ]
    },
    {
      "cell_type": "code",
      "execution_count": null,
      "metadata": {
        "colab": {
          "background_save": true
        },
        "id": "HE_qDJMg5hkB",
        "outputId": "1736a0dc-44bc-4c33-d9b9-dbf85b3a839e"
      },
      "outputs": [
        {
          "data": {
            "image/png": "[encoded data removed]",
            "text/plain": [
              "<Figure size 640x480 with 1 Axes>"
            ]
          },
          "metadata": {},
          "output_type": "display_data"
        }
      ],
      "source": [
        "sns.histplot(data =df[df[\"price\"]>1000], x = \"price\")\n",
        "\n",
        "plt.title('Price > 1000')\n",
        "plt.show()"
      ]
    },
    {
      "cell_type": "markdown",
      "metadata": {
        "id": "rcGvML5pZBVp"
      },
      "source": [
        "This histogram demonstrates that the large majority of AirBnBs cost anywhere from zero to $4000/night."
      ]
    },
    {
      "cell_type": "code",
      "execution_count": null,
      "metadata": {
        "colab": {
          "background_save": true
        },
        "id": "UhI-zl1i7oCM",
        "outputId": "6f6a35d7-7656-4b29-8167-aa872d77165f"
      },
      "outputs": [
        {
          "data": {
            "image/png": "[encoded data removed]",
            "text/plain": [
              "<Figure size 640x480 with 1 Axes>"
            ]
          },
          "metadata": {},
          "output_type": "display_data"
        }
      ],
      "source": [
        "sns.barplot(x=df[\"room_type\"],y=df[\"price\"], errorbar = None, estimator = \"mean\")\n",
        "plt.show()"
      ]
    },
    {
      "cell_type": "markdown",
      "metadata": {
        "id": "ZYZ0sexAZdF0"
      },
      "source": [
        "The most expensive AirBnBs tend to be ones that offer an entire home/apartment, then private rooms, and finally, at the least expensive price, are shared room AirBnBs."
      ]
    },
    {
      "cell_type": "code",
      "execution_count": null,
      "metadata": {
        "colab": {
          "background_save": true
        },
        "id": "r3lTkeav4kll",
        "outputId": "930d8444-e3aa-4d08-b3ec-3283e7d68fe5"
      },
      "outputs": [
        {
          "data": {
            "text/plain": [
              "Index(['name', 'host_name', 'neighbourhood_group', 'neighbourhood', 'latitude',\n",
              "       'longitude', 'room_type', 'minimum_nights', 'number_of_reviews',\n",
              "       'calculated_host_listings_count', 'availability_365', 'price'],\n",
              "      dtype='object')"
            ]
          },
          "execution_count": 88,
          "metadata": {},
          "output_type": "execute_result"
        }
      ],
      "source": [
        "df.columns"
      ]
    },
    {
      "cell_type": "code",
      "execution_count": null,
      "metadata": {
        "colab": {
          "background_save": true
        },
        "id": "h0qGJsxsApUI"
      },
      "outputs": [],
      "source": [
        "df = df.drop(columns = [\"name\", \"host_name\", \"neighbourhood\"])"
      ]
    },
    {
      "cell_type": "code",
      "execution_count": null,
      "metadata": {
        "colab": {
          "background_save": true
        },
        "id": "Oiqvmj5P8KJb",
        "outputId": "f5e5ae01-0d5b-430e-db34-0b32ae53314a"
      },
      "outputs": [
        {
          "data": {
            "text/plain": [
              "Index(['latitude', 'longitude', 'minimum_nights', 'number_of_reviews',\n",
              "       'calculated_host_listings_count', 'availability_365', 'price',\n",
              "       'neighbourhood_group_Brooklyn', 'neighbourhood_group_Manhattan',\n",
              "       'neighbourhood_group_Queens', 'neighbourhood_group_Staten_Island',\n",
              "       'room_type_Private_room', 'room_type_Shared_room'],\n",
              "      dtype='object')"
            ]
          },
          "execution_count": 90,
          "metadata": {},
          "output_type": "execute_result"
        }
      ],
      "source": [
        "df = pd.get_dummies(df, drop_first = True)\n",
        "df.columns"
      ]
    },
    {
      "cell_type": "markdown",
      "metadata": {
        "id": "6gEqdhuE7hDN"
      },
      "source": [
        "There are 13 variables in the resulting dataframe ater dummy coding. 12 Predictive and 1 outcome variable"
      ]
    },
    {
      "cell_type": "markdown",
      "metadata": {
        "id": "XH4P_DLcqnhq"
      },
      "source": [
        "# Section 2: Explanatory Modeling   (30 points)\n",
        "\n",
        "1. *(15 pts)* Fit an explanatory model using the whole dataset (after dropping irrelevant predictors), and print its output.\n",
        "* *(5 pts)* <font color=purple> Are any of the variables insignificant? Which ones?</font>\n",
        "* *(10 pts)* <font color=purple> Interpret the coefficients of the independent variables that *are* significant. Do this for at least three variables, doing this at least dummy variable and one numerical variable.</font>\n"
      ]
    },
    {
      "cell_type": "code",
      "execution_count": null,
      "metadata": {
        "colab": {
          "background_save": true
        },
        "id": "5HDAhauWUO5u"
      },
      "outputs": [],
      "source": [
        "# Your code here\n",
        "mod_spec = \"price ~ latitude+longitude+minimum_nights+number_of_reviews+calculated_host_listings_count+availability_365+neighbourhood_group_Brooklyn+neighbourhood_group_Manhattan+neighbourhood_group_Queens+neighbourhood_group_Staten_Island+room_type_Private_room+room_type_Shared_room\"\n"
      ]
    },
    {
      "cell_type": "code",
      "execution_count": null,
      "metadata": {
        "colab": {
          "background_save": true
        },
        "id": "btBbFbXC4Sa0"
      },
      "outputs": [],
      "source": [
        "exp_model = smf.ols(mod_spec, data = df).fit()"
      ]
    },
    {
      "cell_type": "code",
      "execution_count": null,
      "metadata": {
        "colab": {
          "background_save": true
        },
        "id": "kuufaJeY55nj",
        "outputId": "2c83de5f-7261-485d-cbe5-31e1d8f1ea8c"
      },
      "outputs": [
        {
          "name": "stdout",
          "output_type": "stream",
          "text": [
            "                            OLS Regression Results                            \n",
            "==============================================================================\n",
            "Dep. Variable:                  price   R-squared:                       0.099\n",
            "Model:                            OLS   Adj. R-squared:                  0.098\n",
            "Method:                 Least Squares   F-statistic:                     445.2\n",
            "Date:                Thu, 04 May 2023   Prob (F-statistic):               0.00\n",
            "Time:                        17:06:29   Log-Likelihood:            -3.3420e+05\n",
            "No. Observations:               48807   AIC:                         6.684e+05\n",
            "Df Residuals:                   48794   BIC:                         6.685e+05\n",
            "Df Model:                          12                                         \n",
            "Covariance Type:            nonrobust                                         \n",
            "=====================================================================================================\n",
            "                                        coef    std err          t      P>|t|      [0.025      0.975]\n",
            "-----------------------------------------------------------------------------------------------------\n",
            "Intercept                         -2.908e+04   3204.693     -9.075      0.000   -3.54e+04   -2.28e+04\n",
            "latitude                           -203.6894     31.352     -6.497      0.000    -265.140    -142.239\n",
            "longitude                          -508.0578     35.992    -14.116      0.000    -578.603    -437.513\n",
            "minimum_nights                       -0.1649      0.077     -2.133      0.033      -0.316      -0.013\n",
            "number_of_reviews                    -0.3085      0.024    -12.917      0.000      -0.355      -0.262\n",
            "calculated_host_listings_count       -0.1664      0.033     -4.991      0.000      -0.232      -0.101\n",
            "availability_365                      0.1965      0.008     23.163      0.000       0.180       0.213\n",
            "neighbourhood_group_Brooklyn        -32.6127      8.772     -3.718      0.000     -49.807     -15.419\n",
            "neighbourhood_group_Manhattan        29.0587      7.956      3.652      0.000      13.464      44.653\n",
            "neighbourhood_group_Queens           -4.5474      8.446     -0.538      0.590     -21.101      12.006\n",
            "neighbourhood_group_Staten_Island  -152.9516     16.702     -9.158      0.000    -185.688    -120.215\n",
            "room_type_Private_room             -106.4334      2.163    -49.205      0.000    -110.673    -102.194\n",
            "room_type_Shared_room              -142.7203      6.883    -20.736      0.000    -156.210    -129.230\n",
            "==============================================================================\n",
            "Omnibus:                   110407.034   Durbin-Watson:                   1.847\n",
            "Prob(Omnibus):                  0.000   Jarque-Bera (JB):       1007231602.379\n",
            "Skew:                          21.551   Prob(JB):                         0.00\n",
            "Kurtosis:                     705.446   Cond. No.                     5.74e+05\n",
            "==============================================================================\n",
            "\n",
            "Notes:\n",
            "[1] Standard Errors assume that the covariance matrix of the errors is correctly specified.\n",
            "[2] The condition number is large, 5.74e+05. This might indicate that there are\n",
            "strong multicollinearity or other numerical problems.\n"
          ]
        }
      ],
      "source": [
        "print(exp_model.summary())\n"
      ]
    },
    {
      "cell_type": "markdown",
      "metadata": {
        "id": "i7f_IwVv9eq4"
      },
      "source": [
        "There is only one variable that is insignificant and it is neighbourhood_group[T.Queens] with a p value of 0.590"
      ]
    },
    {
      "cell_type": "markdown",
      "metadata": {
        "id": "s-ZxJOEs8nE3"
      },
      "source": [
        "A majority of the variables are significant in this explanatory model. One dummy variable that is significant is neighbourhood_group[T.Manhattan] . This dummy has a p value of 0.000 making it significant. When a AirBnB is in the Brooklyn neighbourhood group, there is a 29.06 dollar increase in price relative to the Bronx. Another significant variable is minimum_nights. This is a numerical variable and has a p value of 0.033. With a increase of 1 night, there a 0.16 dollar decrease in price. The final significant variable is number_of_reviews with a p value of 0.000. When there is an additional number of reviews, there is a 0.31 dollar decrease in price"
      ]
    },
    {
      "cell_type": "markdown",
      "metadata": {
        "id": "A8BZlAiqE5u2"
      },
      "source": [
        "# Section 3: Predictive Modeling (40 (Regression) or 45 (Classification) points)\n",
        "**Data Preprocessing** (10 points)\n",
        "1. *(3 pts)* Split the data into `X` and `y`.\n",
        "\n",
        "2. *(4 pts)* Create training and test sets, with 80\\% of the data in the training set and 20\\% in the test set, and save them as *train_X*, *test_X*, *train_y*, and *test_y*.\n",
        "* *(3 pts)* <font color=purple> Why do we partition data when doing predictive modeling?</font>\n",
        "\n",
        "**Fitting and Predicting the Models** (30 points for Regression, 35 points for Classification)\n",
        "\n",
        "Next, you will create three predictive models:\n",
        "  * `Model1`: either logistic regression (for classification) or MLR (for regression)\n",
        "  * `Model2`: decision tree (with or without grid search)\n",
        "  * `Model3`: random forest (with or without grid search)\n",
        "\n",
        "Repeat steps 3 through 6 for each model.\n",
        "\n",
        "3. *(2 pts x 3)* Fit the predictive model.\n",
        "\n",
        "4. *(3 pts x 2)* Print the model coefficients (for `Model1`) or visualize the tree (for `Model2`). No output for `Model3`.\n",
        "\n",
        "5. *(3 pts x 3)* Make predictions on the training and test sets.\n",
        "\n",
        "6. *(2 pts x 3)* For regression problems, print the predictive accuracy measures (e.g., ME, MAE, etc.). For classification problems, display the confusion matrix.\n",
        "\n",
        "8. *(5 pts)* For classification problems, plot the ROC curves for all three models.\n",
        "\n",
        "* *(3 pts)* <font color=purple> Which model performs the best? What are you basing this off of?</font>\n"
      ]
    },
    {
      "cell_type": "code",
      "execution_count": null,
      "metadata": {
        "colab": {
          "background_save": true
        },
        "id": "hCbn3dtvD5QY"
      },
      "outputs": [],
      "source": [
        "# Your code here\n",
        "# Create as many additional cells as needed\n",
        "y = df[\"price\"]\n",
        "X =df.drop(columns='price')\n",
        "train_X, test_X, train_y, test_y = train_test_split(X, y, test_size = .2, random_state= 7)"
      ]
    },
    {
      "cell_type": "markdown",
      "metadata": {
        "id": "L4nTaFOK-xEr"
      },
      "source": [
        "We partition data when doing predictive modeling to avoid overfitting"
      ]
    },
    {
      "cell_type": "code",
      "execution_count": null,
      "metadata": {
        "colab": {
          "background_save": true
        },
        "id": "YENoDhg2_ECN",
        "outputId": "3e22fcfd-c59f-4dba-e5e7-7ab5e0dd2e97"
      },
      "outputs": [
        {
          "data": {
            "text/html": [
              "\n",
              "  <div id=\"df-32b9836b-dc51-4d90-b826-29493cfc1197\">\n",
              "    <div class=\"colab-df-container\">\n",
              "      <div>\n",
              "<style scoped>\n",
              "    .dataframe tbody tr th:only-of-type {\n",
              "        vertical-align: middle;\n",
              "    }\n",
              "\n",
              "    .dataframe tbody tr th {\n",
              "        vertical-align: top;\n",
              "    }\n",
              "\n",
              "    .dataframe thead th {\n",
              "        text-align: right;\n",
              "    }\n",
              "</style>\n",
              "<table border=\"1\" class=\"dataframe\">\n",
              "  <thead>\n",
              "    <tr style=\"text-align: right;\">\n",
              "      <th></th>\n",
              "      <th>0</th>\n",
              "    </tr>\n",
              "  </thead>\n",
              "  <tbody>\n",
              "    <tr>\n",
              "      <th>latitude</th>\n",
              "      <td>-212.433363</td>\n",
              "    </tr>\n",
              "    <tr>\n",
              "      <th>longitude</th>\n",
              "      <td>-537.010812</td>\n",
              "    </tr>\n",
              "    <tr>\n",
              "      <th>minimum_nights</th>\n",
              "      <td>-0.140345</td>\n",
              "    </tr>\n",
              "    <tr>\n",
              "      <th>number_of_reviews</th>\n",
              "      <td>-0.310402</td>\n",
              "    </tr>\n",
              "    <tr>\n",
              "      <th>calculated_host_listings_count</th>\n",
              "      <td>-0.182085</td>\n",
              "    </tr>\n",
              "    <tr>\n",
              "      <th>availability_365</th>\n",
              "      <td>0.201353</td>\n",
              "    </tr>\n",
              "    <tr>\n",
              "      <th>neighbourhood_group_Brooklyn</th>\n",
              "      <td>-37.539853</td>\n",
              "    </tr>\n",
              "    <tr>\n",
              "      <th>neighbourhood_group_Manhattan</th>\n",
              "      <td>26.424362</td>\n",
              "    </tr>\n",
              "    <tr>\n",
              "      <th>neighbourhood_group_Queens</th>\n",
              "      <td>-4.488852</td>\n",
              "    </tr>\n",
              "    <tr>\n",
              "      <th>neighbourhood_group_Staten_Island</th>\n",
              "      <td>-156.987358</td>\n",
              "    </tr>\n",
              "    <tr>\n",
              "      <th>room_type_Private_room</th>\n",
              "      <td>-105.948419</td>\n",
              "    </tr>\n",
              "    <tr>\n",
              "      <th>room_type_Shared_room</th>\n",
              "      <td>-142.140826</td>\n",
              "    </tr>\n",
              "  </tbody>\n",
              "</table>\n",
              "</div>\n",
              "      <button class=\"colab-df-convert\" onclick=\"convertToInteractive('df-32b9836b-dc51-4d90-b826-29493cfc1197')\"\n",
              "              title=\"Convert this dataframe to an interactive table.\"\n",
              "              style=\"display:none;\">\n",
              "        \n",
              "  <svg xmlns=\"http://www.w3.org/2000/svg\" height=\"24px\"viewBox=\"0 0 24 24\"\n",
              "       width=\"24px\">\n",
              "    <path d=\"M0 0h24v24H0V0z\" fill=\"none\"/>\n",
              "    <path d=\"M18.56 5.44l.94 2.06.94-2.06 2.06-.94-2.06-.94-.94-2.06-.94 2.06-2.06.94zm-11 1L8.5 8.5l.94-2.06 2.06-.94-2.06-.94L8.5 2.5l-.94 2.06-2.06.94zm10 10l.94 2.06.94-2.06 2.06-.94-2.06-.94-.94-2.06-.94 2.06-2.06.94z\"/><path d=\"M17.41 7.96l-1.37-1.37c-.4-.4-.92-.59-1.43-.59-.52 0-1.04.2-1.43.59L10.3 9.45l-7.72 7.72c-.78.78-.78 2.05 0 2.83L4 21.41c.39.39.9.59 1.41.59.51 0 1.02-.2 1.41-.59l7.78-7.78 2.81-2.81c.8-.78.8-2.07 0-2.86zM5.41 20L4 18.59l7.72-7.72 1.47 1.35L5.41 20z\"/>\n",
              "  </svg>\n",
              "      </button>\n",
              "      \n",
              "  <style>\n",
              "    .colab-df-container {\n",
              "      display:flex;\n",
              "      flex-wrap:wrap;\n",
              "      gap: 12px;\n",
              "    }\n",
              "\n",
              "    .colab-df-convert {\n",
              "      background-color: #E8F0FE;\n",
              "      border: none;\n",
              "      border-radius: 50%;\n",
              "      cursor: pointer;\n",
              "      display: none;\n",
              "      fill: #1967D2;\n",
              "      height: 32px;\n",
              "      padding: 0 0 0 0;\n",
              "      width: 32px;\n",
              "    }\n",
              "\n",
              "    .colab-df-convert:hover {\n",
              "      background-color: #E2EBFA;\n",
              "      box-shadow: 0px 1px 2px rgba(60, 64, 67, 0.3), 0px 1px 3px 1px rgba(60, 64, 67, 0.15);\n",
              "      fill: #174EA6;\n",
              "    }\n",
              "\n",
              "    [theme=dark] .colab-df-convert {\n",
              "      background-color: #3B4455;\n",
              "      fill: #D2E3FC;\n",
              "    }\n",
              "\n",
              "    [theme=dark] .colab-df-convert:hover {\n",
              "      background-color: #434B5C;\n",
              "      box-shadow: 0px 1px 3px 1px rgba(0, 0, 0, 0.15);\n",
              "      filter: drop-shadow(0px 1px 2px rgba(0, 0, 0, 0.3));\n",
              "      fill: #FFFFFF;\n",
              "    }\n",
              "  </style>\n",
              "\n",
              "      <script>\n",
              "        const buttonEl =\n",
              "          document.querySelector('#df-32b9836b-dc51-4d90-b826-29493cfc1197 button.colab-df-convert');\n",
              "        buttonEl.style.display =\n",
              "          google.colab.kernel.accessAllowed ? 'block' : 'none';\n",
              "\n",
              "        async function convertToInteractive(key) {\n",
              "          const element = document.querySelector('#df-32b9836b-dc51-4d90-b826-29493cfc1197');\n",
              "          const dataTable =\n",
              "            await google.colab.kernel.invokeFunction('convertToInteractive',\n",
              "                                                     [key], {});\n",
              "          if (!dataTable) return;\n",
              "\n",
              "          const docLinkHtml = 'Like what you see? Visit the ' +\n",
              "            '<a target=\"_blank\" href=https://colab.research.google.com/notebooks/data_table.ipynb>data table notebook</a>'\n",
              "            + ' to learn more about interactive tables.';\n",
              "          element.innerHTML = '';\n",
              "          dataTable['output_type'] = 'display_data';\n",
              "          await google.colab.output.renderOutput(dataTable, element);\n",
              "          const docLink = document.createElement('div');\n",
              "          docLink.innerHTML = docLinkHtml;\n",
              "          element.appendChild(docLink);\n",
              "        }\n",
              "      </script>\n",
              "    </div>\n",
              "  </div>\n",
              "  "
            ],
            "text/plain": [
              "                                            0\n",
              "latitude                          -212.433363\n",
              "longitude                         -537.010812\n",
              "minimum_nights                      -0.140345\n",
              "number_of_reviews                   -0.310402\n",
              "calculated_host_listings_count      -0.182085\n",
              "availability_365                     0.201353\n",
              "neighbourhood_group_Brooklyn       -37.539853\n",
              "neighbourhood_group_Manhattan       26.424362\n",
              "neighbourhood_group_Queens          -4.488852\n",
              "neighbourhood_group_Staten_Island -156.987358\n",
              "room_type_Private_room            -105.948419\n",
              "room_type_Shared_room             -142.140826"
            ]
          },
          "execution_count": 95,
          "metadata": {},
          "output_type": "execute_result"
        }
      ],
      "source": [
        "from sklearn.linear_model import LinearRegression\n",
        "Model1 = LinearRegression()\n",
        "Model1.fit(train_X, train_y)\n",
        "pd.DataFrame(data=Model1.coef_, index=train_X.columns)\n"
      ]
    },
    {
      "cell_type": "code",
      "execution_count": null,
      "metadata": {
        "colab": {
          "background_save": true
        },
        "id": "jQGPoKQI_6zK",
        "outputId": "6bd3a550-3a21-4da8-a2d5-fb0cd52b49bf"
      },
      "outputs": [
        {
          "name": "stdout",
          "output_type": "stream",
          "text": [
            "\n",
            "Regression statistics\n",
            "\n",
            "               Mean Error (ME) : -0.0000\n",
            "Root Mean Squared Error (RMSE) : 225.2013\n",
            "     Mean Absolute Error (MAE) : 73.8248\n"
          ]
        }
      ],
      "source": [
        "train_pred_y_Model1 = Model1.predict(train_X) # predictions on the training data\n",
        "regressionSummary(train_y, train_pred_y_Model1)\n",
        "\n"
      ]
    },
    {
      "cell_type": "code",
      "execution_count": null,
      "metadata": {
        "colab": {
          "background_save": true
        },
        "id": "hMa3loIU__fq",
        "outputId": "f8421471-82e1-4cdc-c220-eb8966566920"
      },
      "outputs": [
        {
          "name": "stdout",
          "output_type": "stream",
          "text": [
            "\n",
            "Regression statistics\n",
            "\n",
            "                      Mean Error (ME) : 0.4754\n",
            "       Root Mean Squared Error (RMSE) : 237.9531\n",
            "            Mean Absolute Error (MAE) : 74.4609\n",
            "          Mean Percentage Error (MPE) : -31.7062\n",
            "Mean Absolute Percentage Error (MAPE) : 55.3764\n"
          ]
        }
      ],
      "source": [
        "test_pred_y_Model1 = Model1.predict(test_X) # predictions on the testing data\n",
        "regressionSummary(test_y, test_pred_y_Model1)"
      ]
    },
    {
      "cell_type": "code",
      "execution_count": null,
      "metadata": {
        "colab": {
          "background_save": true
        },
        "id": "BPA2ghExGEiy",
        "outputId": "90677e29-8f54-4899-9e40-aaf6ebf49b69"
      },
      "outputs": [
        {
          "data": {
            "image/png": "[encoded data removed]",
            "text/plain": [
              "<IPython.core.display.Image object>"
            ]
          },
          "execution_count": 98,
          "metadata": {},
          "output_type": "execute_result"
        }
      ],
      "source": [
        "from sklearn.tree import DecisionTreeRegressor\n",
        "\n",
        "Model2=DecisionTreeRegressor(max_depth=5, min_samples_split=5, min_impurity_decrease=0.003, random_state=7)\n",
        "Model2=Model2.fit(train_X, train_y)\n",
        "plotDecisionTree(Model2,feature_names=train_X.columns, max_depth=3)"
      ]
    },
    {
      "cell_type": "code",
      "execution_count": null,
      "metadata": {
        "colab": {
          "background_save": true
        },
        "id": "IShZJhkvD4wJ",
        "outputId": "53471953-d79d-496b-dc2e-2de11ba620bb"
      },
      "outputs": [
        {
          "name": "stdout",
          "output_type": "stream",
          "text": [
            "\n",
            "Regression statistics\n",
            "\n",
            "               Mean Error (ME) : -0.0000\n",
            "Root Mean Squared Error (RMSE) : 212.3400\n",
            "     Mean Absolute Error (MAE) : 69.4477\n"
          ]
        }
      ],
      "source": [
        "train_pred_y_Model2=Model2.predict(train_X) #predictions on training set\n",
        "regressionSummary(train_y, train_pred_y_Model2)\n"
      ]
    },
    {
      "cell_type": "code",
      "execution_count": null,
      "metadata": {
        "colab": {
          "background_save": true
        },
        "id": "SwWHYs0iD9Mp",
        "outputId": "2cc6c253-e0dd-483c-ede6-2d3782939801"
      },
      "outputs": [
        {
          "name": "stdout",
          "output_type": "stream",
          "text": [
            "\n",
            "Regression statistics\n",
            "\n",
            "                      Mean Error (ME) : 2.2109\n",
            "       Root Mean Squared Error (RMSE) : 237.2130\n",
            "            Mean Absolute Error (MAE) : 70.3267\n",
            "          Mean Percentage Error (MPE) : -31.3959\n",
            "Mean Absolute Percentage Error (MAPE) : 49.2353\n"
          ]
        }
      ],
      "source": [
        "test_pred_y_Model2=Model2.predict(test_X) #predictions on test set\n",
        "regressionSummary(test_y, test_pred_y_Model2)"
      ]
    },
    {
      "cell_type": "markdown",
      "metadata": {
        "id": "mVv9BcFgpOY0"
      },
      "source": [
        "GRID SEARCH"
      ]
    },
    {
      "cell_type": "code",
      "execution_count": null,
      "metadata": {
        "colab": {
          "background_save": true
        },
        "id": "e5Bn8JLTlLaX"
      },
      "outputs": [],
      "source": [
        "param_grid = {\n",
        "    'max_depth': [10,20,30],\n",
        "    'min_impurity_decrease': [0, 0.0001, 0.001, 0.01],\n",
        "    'min_samples_split': [10,15,20,40,50],\n",
        "    'random_state': [1]}"
      ]
    },
    {
      "cell_type": "code",
      "execution_count": null,
      "metadata": {
        "colab": {
          "background_save": true
        },
        "id": "lTMKY51GmtcF"
      },
      "outputs": [],
      "source": [
        "from sklearn.model_selection import train_test_split, GridSearchCV"
      ]
    },
    {
      "cell_type": "code",
      "execution_count": null,
      "metadata": {
        "colab": {
          "background_save": true
        },
        "id": "Mqph50ZBlVCH",
        "outputId": "f0f9c156-e915-41aa-a89b-748ac28d58d8"
      },
      "outputs": [
        {
          "data": {
            "text/html": [
              "<style>#sk-container-id-5 {color: black;background-color: white;}#sk-container-id-5 pre{padding: 0;}#sk-container-id-5 div.sk-toggleable {background-color: white;}#sk-container-id-5 label.sk-toggleable__label {cursor: pointer;display: block;width: 100%;margin-bottom: 0;padding: 0.3em;box-sizing: border-box;text-align: center;}#sk-container-id-5 label.sk-toggleable__label-arrow:before {content: \"▸\";float: left;margin-right: 0.25em;color: #696969;}#sk-container-id-5 label.sk-toggleable__label-arrow:hover:before {color: black;}#sk-container-id-5 div.sk-estimator:hover label.sk-toggleable__label-arrow:before {color: black;}#sk-container-id-5 div.sk-toggleable__content {max-height: 0;max-width: 0;overflow: hidden;text-align: left;background-color: #f0f8ff;}#sk-container-id-5 div.sk-toggleable__content pre {margin: 0.2em;color: black;border-radius: 0.25em;background-color: #f0f8ff;}#sk-container-id-5 input.sk-toggleable__control:checked~div.sk-toggleable__content {max-height: 200px;max-width: 100%;overflow: auto;}#sk-container-id-5 input.sk-toggleable__control:checked~label.sk-toggleable__label-arrow:before {content: \"▾\";}#sk-container-id-5 div.sk-estimator input.sk-toggleable__control:checked~label.sk-toggleable__label {background-color: #d4ebff;}#sk-container-id-5 div.sk-label input.sk-toggleable__control:checked~label.sk-toggleable__label {background-color: #d4ebff;}#sk-container-id-5 input.sk-hidden--visually {border: 0;clip: rect(1px 1px 1px 1px);clip: rect(1px, 1px, 1px, 1px);height: 1px;margin: -1px;overflow: hidden;padding: 0;position: absolute;width: 1px;}#sk-container-id-5 div.sk-estimator {font-family: monospace;background-color: #f0f8ff;border: 1px dotted black;border-radius: 0.25em;box-sizing: border-box;margin-bottom: 0.5em;}#sk-container-id-5 div.sk-estimator:hover {background-color: #d4ebff;}#sk-container-id-5 div.sk-parallel-item::after {content: \"\";width: 100%;border-bottom: 1px solid gray;flex-grow: 1;}#sk-container-id-5 div.sk-label:hover label.sk-toggleable__label {background-color: #d4ebff;}#sk-container-id-5 div.sk-serial::before {content: \"\";position: absolute;border-left: 1px solid gray;box-sizing: border-box;top: 0;bottom: 0;left: 50%;z-index: 0;}#sk-container-id-5 div.sk-serial {display: flex;flex-direction: column;align-items: center;background-color: white;padding-right: 0.2em;padding-left: 0.2em;position: relative;}#sk-container-id-5 div.sk-item {position: relative;z-index: 1;}#sk-container-id-5 div.sk-parallel {display: flex;align-items: stretch;justify-content: center;background-color: white;position: relative;}#sk-container-id-5 div.sk-item::before, #sk-container-id-5 div.sk-parallel-item::before {content: \"\";position: absolute;border-left: 1px solid gray;box-sizing: border-box;top: 0;bottom: 0;left: 50%;z-index: -1;}#sk-container-id-5 div.sk-parallel-item {display: flex;flex-direction: column;z-index: 1;position: relative;background-color: white;}#sk-container-id-5 div.sk-parallel-item:first-child::after {align-self: flex-end;width: 50%;}#sk-container-id-5 div.sk-parallel-item:last-child::after {align-self: flex-start;width: 50%;}#sk-container-id-5 div.sk-parallel-item:only-child::after {width: 0;}#sk-container-id-5 div.sk-dashed-wrapped {border: 1px dashed gray;margin: 0 0.4em 0.5em 0.4em;box-sizing: border-box;padding-bottom: 0.4em;background-color: white;}#sk-container-id-5 div.sk-label label {font-family: monospace;font-weight: bold;display: inline-block;line-height: 1.2em;}#sk-container-id-5 div.sk-label-container {text-align: center;}#sk-container-id-5 div.sk-container {/* jupyter's `normalize.less` sets `[hidden] { display: none; }` but bootstrap.min.css set `[hidden] { display: none !important; }` so we also need the `!important` here to be able to override the default hidden behavior on the sphinx rendered scikit-learn.org. See: https://github.com/scikit-learn/scikit-learn/issues/21755 */display: inline-block !important;position: relative;}#sk-container-id-5 div.sk-text-repr-fallback {display: none;}</style><div id=\"sk-container-id-5\" class=\"sk-top-container\"><div class=\"sk-text-repr-fallback\"><pre>GridSearchCV(estimator=DecisionTreeRegressor(),\n",
              "             param_grid={&#x27;max_depth&#x27;: [10, 20, 30],\n",
              "                         &#x27;min_impurity_decrease&#x27;: [0, 0.0001, 0.001, 0.01],\n",
              "                         &#x27;min_samples_split&#x27;: [10, 15, 20, 40, 50],\n",
              "                         &#x27;random_state&#x27;: [1]})</pre><b>In a Jupyter environment, please rerun this cell to show the HTML representation or trust the notebook. <br />On GitHub, the HTML representation is unable to render, please try loading this page with nbviewer.org.</b></div><div class=\"sk-container\" hidden><div class=\"sk-item sk-dashed-wrapped\"><div class=\"sk-label-container\"><div class=\"sk-label sk-toggleable\"><input class=\"sk-toggleable__control sk-hidden--visually\" id=\"sk-estimator-id-9\" type=\"checkbox\" ><label for=\"sk-estimator-id-9\" class=\"sk-toggleable__label sk-toggleable__label-arrow\">GridSearchCV</label><div class=\"sk-toggleable__content\"><pre>GridSearchCV(estimator=DecisionTreeRegressor(),\n",
              "             param_grid={&#x27;max_depth&#x27;: [10, 20, 30],\n",
              "                         &#x27;min_impurity_decrease&#x27;: [0, 0.0001, 0.001, 0.01],\n",
              "                         &#x27;min_samples_split&#x27;: [10, 15, 20, 40, 50],\n",
              "                         &#x27;random_state&#x27;: [1]})</pre></div></div></div><div class=\"sk-parallel\"><div class=\"sk-parallel-item\"><div class=\"sk-item\"><div class=\"sk-label-container\"><div class=\"sk-label sk-toggleable\"><input class=\"sk-toggleable__control sk-hidden--visually\" id=\"sk-estimator-id-10\" type=\"checkbox\" ><label for=\"sk-estimator-id-10\" class=\"sk-toggleable__label sk-toggleable__label-arrow\">estimator: DecisionTreeRegressor</label><div class=\"sk-toggleable__content\"><pre>DecisionTreeRegressor()</pre></div></div></div><div class=\"sk-serial\"><div class=\"sk-item\"><div class=\"sk-estimator sk-toggleable\"><input class=\"sk-toggleable__control sk-hidden--visually\" id=\"sk-estimator-id-11\" type=\"checkbox\" ><label for=\"sk-estimator-id-11\" class=\"sk-toggleable__label sk-toggleable__label-arrow\">DecisionTreeRegressor</label><div class=\"sk-toggleable__content\"><pre>DecisionTreeRegressor()</pre></div></div></div></div></div></div></div></div></div></div>"
            ],
            "text/plain": [
              "GridSearchCV(estimator=DecisionTreeRegressor(),\n",
              "             param_grid={'max_depth': [10, 20, 30],\n",
              "                         'min_impurity_decrease': [0, 0.0001, 0.001, 0.01],\n",
              "                         'min_samples_split': [10, 15, 20, 40, 50],\n",
              "                         'random_state': [1]})"
            ]
          },
          "execution_count": 103,
          "metadata": {},
          "output_type": "execute_result"
        }
      ],
      "source": [
        "regTree = GridSearchCV(DecisionTreeRegressor(), param_grid)\n",
        "\n",
        "regTree.fit(train_X, train_y)"
      ]
    },
    {
      "cell_type": "code",
      "execution_count": null,
      "metadata": {
        "colab": {
          "background_save": true
        },
        "id": "-qmWbkGanIQP",
        "outputId": "ee98c3de-ba68-417d-cc0e-e16ac1e5b096"
      },
      "outputs": [
        {
          "data": {
            "text/html": [
              "<style>#sk-container-id-6 {color: black;background-color: white;}#sk-container-id-6 pre{padding: 0;}#sk-container-id-6 div.sk-toggleable {background-color: white;}#sk-container-id-6 label.sk-toggleable__label {cursor: pointer;display: block;width: 100%;margin-bottom: 0;padding: 0.3em;box-sizing: border-box;text-align: center;}#sk-container-id-6 label.sk-toggleable__label-arrow:before {content: \"▸\";float: left;margin-right: 0.25em;color: #696969;}#sk-container-id-6 label.sk-toggleable__label-arrow:hover:before {color: black;}#sk-container-id-6 div.sk-estimator:hover label.sk-toggleable__label-arrow:before {color: black;}#sk-container-id-6 div.sk-toggleable__content {max-height: 0;max-width: 0;overflow: hidden;text-align: left;background-color: #f0f8ff;}#sk-container-id-6 div.sk-toggleable__content pre {margin: 0.2em;color: black;border-radius: 0.25em;background-color: #f0f8ff;}#sk-container-id-6 input.sk-toggleable__control:checked~div.sk-toggleable__content {max-height: 200px;max-width: 100%;overflow: auto;}#sk-container-id-6 input.sk-toggleable__control:checked~label.sk-toggleable__label-arrow:before {content: \"▾\";}#sk-container-id-6 div.sk-estimator input.sk-toggleable__control:checked~label.sk-toggleable__label {background-color: #d4ebff;}#sk-container-id-6 div.sk-label input.sk-toggleable__control:checked~label.sk-toggleable__label {background-color: #d4ebff;}#sk-container-id-6 input.sk-hidden--visually {border: 0;clip: rect(1px 1px 1px 1px);clip: rect(1px, 1px, 1px, 1px);height: 1px;margin: -1px;overflow: hidden;padding: 0;position: absolute;width: 1px;}#sk-container-id-6 div.sk-estimator {font-family: monospace;background-color: #f0f8ff;border: 1px dotted black;border-radius: 0.25em;box-sizing: border-box;margin-bottom: 0.5em;}#sk-container-id-6 div.sk-estimator:hover {background-color: #d4ebff;}#sk-container-id-6 div.sk-parallel-item::after {content: \"\";width: 100%;border-bottom: 1px solid gray;flex-grow: 1;}#sk-container-id-6 div.sk-label:hover label.sk-toggleable__label {background-color: #d4ebff;}#sk-container-id-6 div.sk-serial::before {content: \"\";position: absolute;border-left: 1px solid gray;box-sizing: border-box;top: 0;bottom: 0;left: 50%;z-index: 0;}#sk-container-id-6 div.sk-serial {display: flex;flex-direction: column;align-items: center;background-color: white;padding-right: 0.2em;padding-left: 0.2em;position: relative;}#sk-container-id-6 div.sk-item {position: relative;z-index: 1;}#sk-container-id-6 div.sk-parallel {display: flex;align-items: stretch;justify-content: center;background-color: white;position: relative;}#sk-container-id-6 div.sk-item::before, #sk-container-id-6 div.sk-parallel-item::before {content: \"\";position: absolute;border-left: 1px solid gray;box-sizing: border-box;top: 0;bottom: 0;left: 50%;z-index: -1;}#sk-container-id-6 div.sk-parallel-item {display: flex;flex-direction: column;z-index: 1;position: relative;background-color: white;}#sk-container-id-6 div.sk-parallel-item:first-child::after {align-self: flex-end;width: 50%;}#sk-container-id-6 div.sk-parallel-item:last-child::after {align-self: flex-start;width: 50%;}#sk-container-id-6 div.sk-parallel-item:only-child::after {width: 0;}#sk-container-id-6 div.sk-dashed-wrapped {border: 1px dashed gray;margin: 0 0.4em 0.5em 0.4em;box-sizing: border-box;padding-bottom: 0.4em;background-color: white;}#sk-container-id-6 div.sk-label label {font-family: monospace;font-weight: bold;display: inline-block;line-height: 1.2em;}#sk-container-id-6 div.sk-label-container {text-align: center;}#sk-container-id-6 div.sk-container {/* jupyter's `normalize.less` sets `[hidden] { display: none; }` but bootstrap.min.css set `[hidden] { display: none !important; }` so we also need the `!important` here to be able to override the default hidden behavior on the sphinx rendered scikit-learn.org. See: https://github.com/scikit-learn/scikit-learn/issues/21755 */display: inline-block !important;position: relative;}#sk-container-id-6 div.sk-text-repr-fallback {display: none;}</style><div id=\"sk-container-id-6\" class=\"sk-top-container\"><div class=\"sk-text-repr-fallback\"><pre>DecisionTreeRegressor(max_depth=10, min_impurity_decrease=0,\n",
              "                      min_samples_split=50, random_state=1)</pre><b>In a Jupyter environment, please rerun this cell to show the HTML representation or trust the notebook. <br />On GitHub, the HTML representation is unable to render, please try loading this page with nbviewer.org.</b></div><div class=\"sk-container\" hidden><div class=\"sk-item\"><div class=\"sk-estimator sk-toggleable\"><input class=\"sk-toggleable__control sk-hidden--visually\" id=\"sk-estimator-id-12\" type=\"checkbox\" checked><label for=\"sk-estimator-id-12\" class=\"sk-toggleable__label sk-toggleable__label-arrow\">DecisionTreeRegressor</label><div class=\"sk-toggleable__content\"><pre>DecisionTreeRegressor(max_depth=10, min_impurity_decrease=0,\n",
              "                      min_samples_split=50, random_state=1)</pre></div></div></div></div></div>"
            ],
            "text/plain": [
              "DecisionTreeRegressor(max_depth=10, min_impurity_decrease=0,\n",
              "                      min_samples_split=50, random_state=1)"
            ]
          },
          "execution_count": 104,
          "metadata": {},
          "output_type": "execute_result"
        }
      ],
      "source": [
        "regTree.best_estimator_"
      ]
    },
    {
      "cell_type": "code",
      "execution_count": null,
      "metadata": {
        "colab": {
          "background_save": true
        },
        "id": "OyoY-Sg4nL-F"
      },
      "outputs": [],
      "source": [
        "regTree_train_predictions = regTree.predict(train_X)\n",
        "\n",
        "regTree_test_predictions = regTree.predict(test_X)"
      ]
    },
    {
      "cell_type": "code",
      "execution_count": null,
      "metadata": {
        "colab": {
          "background_save": true
        },
        "id": "beVzSEdRnQR-",
        "outputId": "5412a67c-da47-45ea-add2-c91604d7661f"
      },
      "outputs": [
        {
          "name": "stdout",
          "output_type": "stream",
          "text": [
            "\n",
            "Regression statistics\n",
            "\n",
            "               Mean Error (ME) : 0.0000\n",
            "Root Mean Squared Error (RMSE) : 202.7409\n",
            "     Mean Absolute Error (MAE) : 64.6186\n",
            "\n",
            "Regression statistics\n",
            "\n",
            "                      Mean Error (ME) : 2.5251\n",
            "       Root Mean Squared Error (RMSE) : 238.4051\n",
            "            Mean Absolute Error (MAE) : 68.1125\n",
            "          Mean Percentage Error (MPE) : -26.6518\n",
            "Mean Absolute Percentage Error (MAPE) : 45.3599\n"
          ]
        }
      ],
      "source": [
        "regressionSummary(train_y, regTree_train_predictions)\n",
        "\n",
        "regressionSummary(test_y, regTree_test_predictions)"
      ]
    },
    {
      "cell_type": "markdown",
      "metadata": {
        "id": "njO570ndpRNh"
      },
      "source": [
        "RANDOM FOREST"
      ]
    },
    {
      "cell_type": "code",
      "execution_count": null,
      "metadata": {
        "colab": {
          "background_save": true
        },
        "id": "z8YKbjuxB9zT"
      },
      "outputs": [],
      "source": [
        "from sklearn.ensemble import RandomForestRegressor"
      ]
    },
    {
      "cell_type": "code",
      "execution_count": null,
      "metadata": {
        "colab": {
          "background_save": true
        },
        "id": "S0HMHimKBUo3"
      },
      "outputs": [],
      "source": [
        "Model3=RandomForestRegressor(n_estimators=500,  min_impurity_decrease = 0.001, random_state=7)\n",
        "Model3=Model3.fit(train_X,train_y)\n"
      ]
    },
    {
      "cell_type": "code",
      "execution_count": null,
      "metadata": {
        "colab": {
          "background_save": true
        },
        "id": "NsQDHAiFCFxa",
        "outputId": "d7928087-dc86-4e38-963d-d8f75407dc43"
      },
      "outputs": [
        {
          "name": "stdout",
          "output_type": "stream",
          "text": [
            "\n",
            "Regression statistics\n",
            "\n",
            "               Mean Error (ME) : -1.7815\n",
            "Root Mean Squared Error (RMSE) : 81.7150\n",
            "     Mean Absolute Error (MAE) : 24.5783\n"
          ]
        }
      ],
      "source": [
        "train_pred_y_Model3=Model3.predict(train_X)\n",
        "regressionSummary(train_y, train_pred_y_Model3)"
      ]
    },
    {
      "cell_type": "code",
      "execution_count": null,
      "metadata": {
        "colab": {
          "background_save": true
        },
        "id": "p7wKwAZkCH5i",
        "outputId": "4e21664b-66a2-4eff-d444-09010175dc4a"
      },
      "outputs": [
        {
          "name": "stdout",
          "output_type": "stream",
          "text": [
            "\n",
            "Regression statistics\n",
            "\n",
            "                      Mean Error (ME) : -2.6983\n",
            "       Root Mean Squared Error (RMSE) : 234.3981\n",
            "            Mean Absolute Error (MAE) : 65.7387\n",
            "          Mean Percentage Error (MPE) : -26.9388\n",
            "Mean Absolute Percentage Error (MAPE) : 43.7546\n"
          ]
        }
      ],
      "source": [
        "test_pred_y_Model3=Model3.predict(test_X)\n",
        "regressionSummary(test_y,test_pred_y_Model3)"
      ]
    },
    {
      "cell_type": "markdown",
      "metadata": {
        "id": "t7F-BtHm49ac"
      },
      "source": [
        "The model that works the best is Model3 or the random forest. We are basing this off of mean absolute error of the test set between the 3 models. Model3 has the lowest MAE making it the model that performs the best.\n"
      ]
    },
    {
      "cell_type": "markdown",
      "metadata": {
        "id": "3sCyHLoIpXy_"
      },
      "source": [
        "GRID SEARCH"
      ]
    },
    {
      "cell_type": "code",
      "execution_count": null,
      "metadata": {
        "colab": {
          "background_save": true
        },
        "id": "4HcEunyvnYQD"
      },
      "outputs": [],
      "source": [
        "param_grid2 = {\n",
        "    'min_impurity_decrease': [0, 0.0001, 0.001, 0.01],\n",
        "    'min_samples_split': [10,15,20,40,50],\n",
        "    'max_depth':[10,20,30],\n",
        "    \"random_state\": [1]}"
      ]
    },
    {
      "cell_type": "code",
      "execution_count": null,
      "metadata": {
        "colab": {
          "background_save": true
        },
        "id": "A4XjgV0QncDZ",
        "outputId": "2e80c8c5-a603-432c-c92d-94b051627b00"
      },
      "outputs": [
        {
          "data": {
            "text/html": [
              "<style>#sk-container-id-3 {color: black;background-color: white;}#sk-container-id-3 pre{padding: 0;}#sk-container-id-3 div.sk-toggleable {background-color: white;}#sk-container-id-3 label.sk-toggleable__label {cursor: pointer;display: block;width: 100%;margin-bottom: 0;padding: 0.3em;box-sizing: border-box;text-align: center;}#sk-container-id-3 label.sk-toggleable__label-arrow:before {content: \"▸\";float: left;margin-right: 0.25em;color: #696969;}#sk-container-id-3 label.sk-toggleable__label-arrow:hover:before {color: black;}#sk-container-id-3 div.sk-estimator:hover label.sk-toggleable__label-arrow:before {color: black;}#sk-container-id-3 div.sk-toggleable__content {max-height: 0;max-width: 0;overflow: hidden;text-align: left;background-color: #f0f8ff;}#sk-container-id-3 div.sk-toggleable__content pre {margin: 0.2em;color: black;border-radius: 0.25em;background-color: #f0f8ff;}#sk-container-id-3 input.sk-toggleable__control:checked~div.sk-toggleable__content {max-height: 200px;max-width: 100%;overflow: auto;}#sk-container-id-3 input.sk-toggleable__control:checked~label.sk-toggleable__label-arrow:before {content: \"▾\";}#sk-container-id-3 div.sk-estimator input.sk-toggleable__control:checked~label.sk-toggleable__label {background-color: #d4ebff;}#sk-container-id-3 div.sk-label input.sk-toggleable__control:checked~label.sk-toggleable__label {background-color: #d4ebff;}#sk-container-id-3 input.sk-hidden--visually {border: 0;clip: rect(1px 1px 1px 1px);clip: rect(1px, 1px, 1px, 1px);height: 1px;margin: -1px;overflow: hidden;padding: 0;position: absolute;width: 1px;}#sk-container-id-3 div.sk-estimator {font-family: monospace;background-color: #f0f8ff;border: 1px dotted black;border-radius: 0.25em;box-sizing: border-box;margin-bottom: 0.5em;}#sk-container-id-3 div.sk-estimator:hover {background-color: #d4ebff;}#sk-container-id-3 div.sk-parallel-item::after {content: \"\";width: 100%;border-bottom: 1px solid gray;flex-grow: 1;}#sk-container-id-3 div.sk-label:hover label.sk-toggleable__label {background-color: #d4ebff;}#sk-container-id-3 div.sk-serial::before {content: \"\";position: absolute;border-left: 1px solid gray;box-sizing: border-box;top: 0;bottom: 0;left: 50%;z-index: 0;}#sk-container-id-3 div.sk-serial {display: flex;flex-direction: column;align-items: center;background-color: white;padding-right: 0.2em;padding-left: 0.2em;position: relative;}#sk-container-id-3 div.sk-item {position: relative;z-index: 1;}#sk-container-id-3 div.sk-parallel {display: flex;align-items: stretch;justify-content: center;background-color: white;position: relative;}#sk-container-id-3 div.sk-item::before, #sk-container-id-3 div.sk-parallel-item::before {content: \"\";position: absolute;border-left: 1px solid gray;box-sizing: border-box;top: 0;bottom: 0;left: 50%;z-index: -1;}#sk-container-id-3 div.sk-parallel-item {display: flex;flex-direction: column;z-index: 1;position: relative;background-color: white;}#sk-container-id-3 div.sk-parallel-item:first-child::after {align-self: flex-end;width: 50%;}#sk-container-id-3 div.sk-parallel-item:last-child::after {align-self: flex-start;width: 50%;}#sk-container-id-3 div.sk-parallel-item:only-child::after {width: 0;}#sk-container-id-3 div.sk-dashed-wrapped {border: 1px dashed gray;margin: 0 0.4em 0.5em 0.4em;box-sizing: border-box;padding-bottom: 0.4em;background-color: white;}#sk-container-id-3 div.sk-label label {font-family: monospace;font-weight: bold;display: inline-block;line-height: 1.2em;}#sk-container-id-3 div.sk-label-container {text-align: center;}#sk-container-id-3 div.sk-container {/* jupyter's `normalize.less` sets `[hidden] { display: none; }` but bootstrap.min.css set `[hidden] { display: none !important; }` so we also need the `!important` here to be able to override the default hidden behavior on the sphinx rendered scikit-learn.org. See: https://github.com/scikit-learn/scikit-learn/issues/21755 */display: inline-block !important;position: relative;}#sk-container-id-3 div.sk-text-repr-fallback {display: none;}</style><div id=\"sk-container-id-3\" class=\"sk-top-container\"><div class=\"sk-text-repr-fallback\"><pre>GridSearchCV(estimator=RandomForestRegressor(),\n",
              "             param_grid={&#x27;max_depth&#x27;: [10, 20, 30],\n",
              "                         &#x27;min_impurity_decrease&#x27;: [0, 0.0001, 0.001, 0.01],\n",
              "                         &#x27;min_samples_split&#x27;: [10, 15, 20, 40, 50],\n",
              "                         &#x27;random_state&#x27;: [1]})</pre><b>In a Jupyter environment, please rerun this cell to show the HTML representation or trust the notebook. <br />On GitHub, the HTML representation is unable to render, please try loading this page with nbviewer.org.</b></div><div class=\"sk-container\" hidden><div class=\"sk-item sk-dashed-wrapped\"><div class=\"sk-label-container\"><div class=\"sk-label sk-toggleable\"><input class=\"sk-toggleable__control sk-hidden--visually\" id=\"sk-estimator-id-5\" type=\"checkbox\" ><label for=\"sk-estimator-id-5\" class=\"sk-toggleable__label sk-toggleable__label-arrow\">GridSearchCV</label><div class=\"sk-toggleable__content\"><pre>GridSearchCV(estimator=RandomForestRegressor(),\n",
              "             param_grid={&#x27;max_depth&#x27;: [10, 20, 30],\n",
              "                         &#x27;min_impurity_decrease&#x27;: [0, 0.0001, 0.001, 0.01],\n",
              "                         &#x27;min_samples_split&#x27;: [10, 15, 20, 40, 50],\n",
              "                         &#x27;random_state&#x27;: [1]})</pre></div></div></div><div class=\"sk-parallel\"><div class=\"sk-parallel-item\"><div class=\"sk-item\"><div class=\"sk-label-container\"><div class=\"sk-label sk-toggleable\"><input class=\"sk-toggleable__control sk-hidden--visually\" id=\"sk-estimator-id-6\" type=\"checkbox\" ><label for=\"sk-estimator-id-6\" class=\"sk-toggleable__label sk-toggleable__label-arrow\">estimator: RandomForestRegressor</label><div class=\"sk-toggleable__content\"><pre>RandomForestRegressor()</pre></div></div></div><div class=\"sk-serial\"><div class=\"sk-item\"><div class=\"sk-estimator sk-toggleable\"><input class=\"sk-toggleable__control sk-hidden--visually\" id=\"sk-estimator-id-7\" type=\"checkbox\" ><label for=\"sk-estimator-id-7\" class=\"sk-toggleable__label sk-toggleable__label-arrow\">RandomForestRegressor</label><div class=\"sk-toggleable__content\"><pre>RandomForestRegressor()</pre></div></div></div></div></div></div></div></div></div></div>"
            ],
            "text/plain": [
              "GridSearchCV(estimator=RandomForestRegressor(),\n",
              "             param_grid={'max_depth': [10, 20, 30],\n",
              "                         'min_impurity_decrease': [0, 0.0001, 0.001, 0.01],\n",
              "                         'min_samples_split': [10, 15, 20, 40, 50],\n",
              "                         'random_state': [1]})"
            ]
          },
          "execution_count": 52,
          "metadata": {},
          "output_type": "execute_result"
        }
      ],
      "source": [
        "RF_reg = GridSearchCV(RandomForestRegressor(), param_grid2)\n",
        "RF_reg.fit(train_X, train_y)"
      ]
    },
    {
      "cell_type": "code",
      "execution_count": null,
      "metadata": {
        "colab": {
          "background_save": true
        },
        "id": "vm0DF35Fp_7y",
        "outputId": "bd30c4b8-94ba-43b8-d3de-a028ff4b2974"
      },
      "outputs": [
        {
          "data": {
            "text/html": [
              "<style>#sk-container-id-4 {color: black;background-color: white;}#sk-container-id-4 pre{padding: 0;}#sk-container-id-4 div.sk-toggleable {background-color: white;}#sk-container-id-4 label.sk-toggleable__label {cursor: pointer;display: block;width: 100%;margin-bottom: 0;padding: 0.3em;box-sizing: border-box;text-align: center;}#sk-container-id-4 label.sk-toggleable__label-arrow:before {content: \"▸\";float: left;margin-right: 0.25em;color: #696969;}#sk-container-id-4 label.sk-toggleable__label-arrow:hover:before {color: black;}#sk-container-id-4 div.sk-estimator:hover label.sk-toggleable__label-arrow:before {color: black;}#sk-container-id-4 div.sk-toggleable__content {max-height: 0;max-width: 0;overflow: hidden;text-align: left;background-color: #f0f8ff;}#sk-container-id-4 div.sk-toggleable__content pre {margin: 0.2em;color: black;border-radius: 0.25em;background-color: #f0f8ff;}#sk-container-id-4 input.sk-toggleable__control:checked~div.sk-toggleable__content {max-height: 200px;max-width: 100%;overflow: auto;}#sk-container-id-4 input.sk-toggleable__control:checked~label.sk-toggleable__label-arrow:before {content: \"▾\";}#sk-container-id-4 div.sk-estimator input.sk-toggleable__control:checked~label.sk-toggleable__label {background-color: #d4ebff;}#sk-container-id-4 div.sk-label input.sk-toggleable__control:checked~label.sk-toggleable__label {background-color: #d4ebff;}#sk-container-id-4 input.sk-hidden--visually {border: 0;clip: rect(1px 1px 1px 1px);clip: rect(1px, 1px, 1px, 1px);height: 1px;margin: -1px;overflow: hidden;padding: 0;position: absolute;width: 1px;}#sk-container-id-4 div.sk-estimator {font-family: monospace;background-color: #f0f8ff;border: 1px dotted black;border-radius: 0.25em;box-sizing: border-box;margin-bottom: 0.5em;}#sk-container-id-4 div.sk-estimator:hover {background-color: #d4ebff;}#sk-container-id-4 div.sk-parallel-item::after {content: \"\";width: 100%;border-bottom: 1px solid gray;flex-grow: 1;}#sk-container-id-4 div.sk-label:hover label.sk-toggleable__label {background-color: #d4ebff;}#sk-container-id-4 div.sk-serial::before {content: \"\";position: absolute;border-left: 1px solid gray;box-sizing: border-box;top: 0;bottom: 0;left: 50%;z-index: 0;}#sk-container-id-4 div.sk-serial {display: flex;flex-direction: column;align-items: center;background-color: white;padding-right: 0.2em;padding-left: 0.2em;position: relative;}#sk-container-id-4 div.sk-item {position: relative;z-index: 1;}#sk-container-id-4 div.sk-parallel {display: flex;align-items: stretch;justify-content: center;background-color: white;position: relative;}#sk-container-id-4 div.sk-item::before, #sk-container-id-4 div.sk-parallel-item::before {content: \"\";position: absolute;border-left: 1px solid gray;box-sizing: border-box;top: 0;bottom: 0;left: 50%;z-index: -1;}#sk-container-id-4 div.sk-parallel-item {display: flex;flex-direction: column;z-index: 1;position: relative;background-color: white;}#sk-container-id-4 div.sk-parallel-item:first-child::after {align-self: flex-end;width: 50%;}#sk-container-id-4 div.sk-parallel-item:last-child::after {align-self: flex-start;width: 50%;}#sk-container-id-4 div.sk-parallel-item:only-child::after {width: 0;}#sk-container-id-4 div.sk-dashed-wrapped {border: 1px dashed gray;margin: 0 0.4em 0.5em 0.4em;box-sizing: border-box;padding-bottom: 0.4em;background-color: white;}#sk-container-id-4 div.sk-label label {font-family: monospace;font-weight: bold;display: inline-block;line-height: 1.2em;}#sk-container-id-4 div.sk-label-container {text-align: center;}#sk-container-id-4 div.sk-container {/* jupyter's `normalize.less` sets `[hidden] { display: none; }` but bootstrap.min.css set `[hidden] { display: none !important; }` so we also need the `!important` here to be able to override the default hidden behavior on the sphinx rendered scikit-learn.org. See: https://github.com/scikit-learn/scikit-learn/issues/21755 */display: inline-block !important;position: relative;}#sk-container-id-4 div.sk-text-repr-fallback {display: none;}</style><div id=\"sk-container-id-4\" class=\"sk-top-container\"><div class=\"sk-text-repr-fallback\"><pre>RandomForestRegressor(max_depth=20, min_impurity_decrease=0.01,\n",
              "                      min_samples_split=40, random_state=1)</pre><b>In a Jupyter environment, please rerun this cell to show the HTML representation or trust the notebook. <br />On GitHub, the HTML representation is unable to render, please try loading this page with nbviewer.org.</b></div><div class=\"sk-container\" hidden><div class=\"sk-item\"><div class=\"sk-estimator sk-toggleable\"><input class=\"sk-toggleable__control sk-hidden--visually\" id=\"sk-estimator-id-8\" type=\"checkbox\" checked><label for=\"sk-estimator-id-8\" class=\"sk-toggleable__label sk-toggleable__label-arrow\">RandomForestRegressor</label><div class=\"sk-toggleable__content\"><pre>RandomForestRegressor(max_depth=20, min_impurity_decrease=0.01,\n",
              "                      min_samples_split=40, random_state=1)</pre></div></div></div></div></div>"
            ],
            "text/plain": [
              "RandomForestRegressor(max_depth=20, min_impurity_decrease=0.01,\n",
              "                      min_samples_split=40, random_state=1)"
            ]
          },
          "execution_count": 53,
          "metadata": {},
          "output_type": "execute_result"
        }
      ],
      "source": [
        "RF_reg.best_estimator_"
      ]
    },
    {
      "cell_type": "code",
      "execution_count": null,
      "metadata": {
        "colab": {
          "background_save": true
        },
        "id": "KEBLNiV-qCbA"
      },
      "outputs": [],
      "source": [
        "RF_train_predictions = RF_reg.predict(train_X)\n",
        "\n",
        "RF_test_predictions = RF_reg.predict(test_X)"
      ]
    },
    {
      "cell_type": "code",
      "execution_count": null,
      "metadata": {
        "colab": {
          "background_save": true
        },
        "id": "Sp9OKbg6qE8D",
        "outputId": "44e37aa2-846e-4ec8-dee6-e7215a0d55e5"
      },
      "outputs": [
        {
          "name": "stdout",
          "output_type": "stream",
          "text": [
            "\n",
            "Regression statistics\n",
            "\n",
            "               Mean Error (ME) : -0.6696\n",
            "Root Mean Squared Error (RMSE) : 185.6161\n",
            "     Mean Absolute Error (MAE) : 54.8709\n",
            "\n",
            "Regression statistics\n",
            "\n",
            "                      Mean Error (ME) : -0.5951\n",
            "       Root Mean Squared Error (RMSE) : 232.8412\n",
            "            Mean Absolute Error (MAE) : 65.3811\n",
            "          Mean Percentage Error (MPE) : -27.3063\n",
            "Mean Absolute Percentage Error (MAPE) : 43.9569\n"
          ]
        }
      ],
      "source": [
        "regressionSummary(train_y, RF_train_predictions)\n",
        "\n",
        "regressionSummary(test_y, RF_test_predictions)"
      ]
    },
    {
      "cell_type": "markdown",
      "metadata": {
        "id": "08Z-64WjLjl2"
      },
      "source": [
        "# Section 4: Computing the value of your work (Regression) (20 points)"
      ]
    },
    {
      "cell_type": "markdown",
      "metadata": {
        "id": "bwLvl1f5sOog"
      },
      "source": [
        "In this section, you will compare the performance of two models:\n",
        "* a naive model (in which the predicted variable is simply the *average of the outcome variable* in the data used to fit the model); and\n",
        "* one of your models from above.\n",
        "\n",
        "1. *(6 pts)* Create a dataframe that contains three columns:\n",
        "  * the actual outcome variable for the test set;\n",
        "  * the predicted outcome variable for the test set for your chosen model; and\n",
        "  * the predicted outcome variable for the test set using the naive model.\n",
        "*Hint: We did something similar in the Class 21 notebook. Alternately, a little Googling should help.*\n",
        "\n",
        "**Problem Setup**\n",
        "\n",
        "For your dataset, the host will incur a cost from renting out each AirBnB. Assume that this is equal to 70\\% of the *actual* listing price.\n",
        "\n",
        "If the predicted price exceeds the actual listing price by more than 10\\%, the unit will not be rented, and the host earns zero profit. Otherwise, the expected profit for each listing is the difference between the predicted price and the cost the host incurs.\n",
        "\n",
        "Mathematically, this is as follows. Let *actual_price* refer to the actual listing price; *cost_to_host* refers to the cost incurred by the host; *pred_price* refers to the predicted price from a given model; and *exp_profit* refer to the expected profit for each listing. Then,\n",
        "\n",
        "$\n",
        "\\begin{align}\n",
        "cost\\_to\\_host &= 0.7 * actual\\_price \\\\\n",
        "exp\\_profit &=\n",
        "\\begin{cases}\n",
        "pred\\_price - cost\\_to\\_host, & \\mbox{if } pred\\_price \\leq 1.1 * actual\\_price,\\\\\n",
        "0, & \\mbox{if } pred\\_price > 1.1 * actual\\_price.\\\\\n",
        "\\end{cases}\n",
        "\\end{align}\n",
        "$\n",
        "\n",
        "Using this information, do the following.\n",
        "\n",
        "2. *(2 pts)* Add a column called *cost_to_host* in the above dataframe.\n",
        "3. *(4 pts)* Add two new columns, representing the expected profit from each of the two models.\n",
        "\n",
        "**Value Calculation**\n",
        "4. *(3 pts)* Calculate the average expected profit from each of the two models.\n",
        "\n",
        "* *(5 pts)* <font color=purple> What is the average benefit from using your model instead of a naive model? (If you don't see there is a benefit, you may want to choose a different model or double-check your analysis!)</font>"
      ]
    },
    {
      "cell_type": "code",
      "execution_count": null,
      "metadata": {
        "colab": {
          "background_save": true
        },
        "id": "nqBC5HRtT0mP",
        "outputId": "31b7eed1-9882-48cd-e1ad-a7dec05d1381"
      },
      "outputs": [
        {
          "data": {
            "text/html": [
              "\n",
              "  <div id=\"df-bb4b72e2-b227-4715-ac81-5dfdad1b2f84\">\n",
              "    <div class=\"colab-df-container\">\n",
              "      <div>\n",
              "<style scoped>\n",
              "    .dataframe tbody tr th:only-of-type {\n",
              "        vertical-align: middle;\n",
              "    }\n",
              "\n",
              "    .dataframe tbody tr th {\n",
              "        vertical-align: top;\n",
              "    }\n",
              "\n",
              "    .dataframe thead th {\n",
              "        text-align: right;\n",
              "    }\n",
              "</style>\n",
              "<table border=\"1\" class=\"dataframe\">\n",
              "  <thead>\n",
              "    <tr style=\"text-align: right;\">\n",
              "      <th></th>\n",
              "      <th>actual_test_y</th>\n",
              "      <th>Model3_Predictions</th>\n",
              "      <th>Naive_Model_Prediction</th>\n",
              "    </tr>\n",
              "  </thead>\n",
              "  <tbody>\n",
              "    <tr>\n",
              "      <th>22035</th>\n",
              "      <td>65</td>\n",
              "      <td>68.046320</td>\n",
              "      <td>152.613548</td>\n",
              "    </tr>\n",
              "    <tr>\n",
              "      <th>18599</th>\n",
              "      <td>80</td>\n",
              "      <td>65.043886</td>\n",
              "      <td>152.613548</td>\n",
              "    </tr>\n",
              "    <tr>\n",
              "      <th>16419</th>\n",
              "      <td>75</td>\n",
              "      <td>65.925022</td>\n",
              "      <td>152.613548</td>\n",
              "    </tr>\n",
              "    <tr>\n",
              "      <th>24752</th>\n",
              "      <td>150</td>\n",
              "      <td>169.676794</td>\n",
              "      <td>152.613548</td>\n",
              "    </tr>\n",
              "    <tr>\n",
              "      <th>39397</th>\n",
              "      <td>150</td>\n",
              "      <td>140.057180</td>\n",
              "      <td>152.613548</td>\n",
              "    </tr>\n",
              "  </tbody>\n",
              "</table>\n",
              "</div>\n",
              "      <button class=\"colab-df-convert\" onclick=\"convertToInteractive('df-bb4b72e2-b227-4715-ac81-5dfdad1b2f84')\"\n",
              "              title=\"Convert this dataframe to an interactive table.\"\n",
              "              style=\"display:none;\">\n",
              "        \n",
              "  <svg xmlns=\"http://www.w3.org/2000/svg\" height=\"24px\"viewBox=\"0 0 24 24\"\n",
              "       width=\"24px\">\n",
              "    <path d=\"M0 0h24v24H0V0z\" fill=\"none\"/>\n",
              "    <path d=\"M18.56 5.44l.94 2.06.94-2.06 2.06-.94-2.06-.94-.94-2.06-.94 2.06-2.06.94zm-11 1L8.5 8.5l.94-2.06 2.06-.94-2.06-.94L8.5 2.5l-.94 2.06-2.06.94zm10 10l.94 2.06.94-2.06 2.06-.94-2.06-.94-.94-2.06-.94 2.06-2.06.94z\"/><path d=\"M17.41 7.96l-1.37-1.37c-.4-.4-.92-.59-1.43-.59-.52 0-1.04.2-1.43.59L10.3 9.45l-7.72 7.72c-.78.78-.78 2.05 0 2.83L4 21.41c.39.39.9.59 1.41.59.51 0 1.02-.2 1.41-.59l7.78-7.78 2.81-2.81c.8-.78.8-2.07 0-2.86zM5.41 20L4 18.59l7.72-7.72 1.47 1.35L5.41 20z\"/>\n",
              "  </svg>\n",
              "      </button>\n",
              "      \n",
              "  <style>\n",
              "    .colab-df-container {\n",
              "      display:flex;\n",
              "      flex-wrap:wrap;\n",
              "      gap: 12px;\n",
              "    }\n",
              "\n",
              "    .colab-df-convert {\n",
              "      background-color: #E8F0FE;\n",
              "      border: none;\n",
              "      border-radius: 50%;\n",
              "      cursor: pointer;\n",
              "      display: none;\n",
              "      fill: #1967D2;\n",
              "      height: 32px;\n",
              "      padding: 0 0 0 0;\n",
              "      width: 32px;\n",
              "    }\n",
              "\n",
              "    .colab-df-convert:hover {\n",
              "      background-color: #E2EBFA;\n",
              "      box-shadow: 0px 1px 2px rgba(60, 64, 67, 0.3), 0px 1px 3px 1px rgba(60, 64, 67, 0.15);\n",
              "      fill: #174EA6;\n",
              "    }\n",
              "\n",
              "    [theme=dark] .colab-df-convert {\n",
              "      background-color: #3B4455;\n",
              "      fill: #D2E3FC;\n",
              "    }\n",
              "\n",
              "    [theme=dark] .colab-df-convert:hover {\n",
              "      background-color: #434B5C;\n",
              "      box-shadow: 0px 1px 3px 1px rgba(0, 0, 0, 0.15);\n",
              "      filter: drop-shadow(0px 1px 2px rgba(0, 0, 0, 0.3));\n",
              "      fill: #FFFFFF;\n",
              "    }\n",
              "  </style>\n",
              "\n",
              "      <script>\n",
              "        const buttonEl =\n",
              "          document.querySelector('#df-bb4b72e2-b227-4715-ac81-5dfdad1b2f84 button.colab-df-convert');\n",
              "        buttonEl.style.display =\n",
              "          google.colab.kernel.accessAllowed ? 'block' : 'none';\n",
              "\n",
              "        async function convertToInteractive(key) {\n",
              "          const element = document.querySelector('#df-bb4b72e2-b227-4715-ac81-5dfdad1b2f84');\n",
              "          const dataTable =\n",
              "            await google.colab.kernel.invokeFunction('convertToInteractive',\n",
              "                                                     [key], {});\n",
              "          if (!dataTable) return;\n",
              "\n",
              "          const docLinkHtml = 'Like what you see? Visit the ' +\n",
              "            '<a target=\"_blank\" href=https://colab.research.google.com/notebooks/data_table.ipynb>data table notebook</a>'\n",
              "            + ' to learn more about interactive tables.';\n",
              "          element.innerHTML = '';\n",
              "          dataTable['output_type'] = 'display_data';\n",
              "          await google.colab.output.renderOutput(dataTable, element);\n",
              "          const docLink = document.createElement('div');\n",
              "          docLink.innerHTML = docLinkHtml;\n",
              "          element.appendChild(docLink);\n",
              "        }\n",
              "      </script>\n",
              "    </div>\n",
              "  </div>\n",
              "  "
            ],
            "text/plain": [
              "       actual_test_y  Model3_Predictions  Naive_Model_Prediction\n",
              "22035             65           68.046320              152.613548\n",
              "18599             80           65.043886              152.613548\n",
              "16419             75           65.925022              152.613548\n",
              "24752            150          169.676794              152.613548\n",
              "39397            150          140.057180              152.613548"
            ]
          },
          "execution_count": 56,
          "metadata": {},
          "output_type": "execute_result"
        }
      ],
      "source": [
        "# Your code here\n",
        "new_df = pd.DataFrame(test_y)\n",
        "new_df.columns = ['actual_test_y']#changing column name\n",
        "new_df[\"Model3_Predictions\"] = test_pred_y_Model3\n",
        "new_df[\"Naive_Model_Prediction\"] = np.where(test_y >=0, train_y.mean(), 0)\n",
        "new_df.head()"
      ]
    },
    {
      "cell_type": "code",
      "execution_count": null,
      "metadata": {
        "colab": {
          "background_save": true
        },
        "id": "XSa0m_Sv8Fff",
        "outputId": "cd8f4034-aa8c-409f-a042-ff28a3495d0c"
      },
      "outputs": [
        {
          "data": {
            "text/html": [
              "\n",
              "  <div id=\"df-8c5b09b6-97a4-4d45-8cfc-ecbf44ab6906\">\n",
              "    <div class=\"colab-df-container\">\n",
              "      <div>\n",
              "<style scoped>\n",
              "    .dataframe tbody tr th:only-of-type {\n",
              "        vertical-align: middle;\n",
              "    }\n",
              "\n",
              "    .dataframe tbody tr th {\n",
              "        vertical-align: top;\n",
              "    }\n",
              "\n",
              "    .dataframe thead th {\n",
              "        text-align: right;\n",
              "    }\n",
              "</style>\n",
              "<table border=\"1\" class=\"dataframe\">\n",
              "  <thead>\n",
              "    <tr style=\"text-align: right;\">\n",
              "      <th></th>\n",
              "      <th>actual_test_y</th>\n",
              "      <th>Model3_Predictions</th>\n",
              "      <th>Naive_Model_Prediction</th>\n",
              "      <th>cost_to_host</th>\n",
              "    </tr>\n",
              "  </thead>\n",
              "  <tbody>\n",
              "    <tr>\n",
              "      <th>22035</th>\n",
              "      <td>65</td>\n",
              "      <td>68.046320</td>\n",
              "      <td>152.613548</td>\n",
              "      <td>45.5</td>\n",
              "    </tr>\n",
              "    <tr>\n",
              "      <th>18599</th>\n",
              "      <td>80</td>\n",
              "      <td>65.043886</td>\n",
              "      <td>152.613548</td>\n",
              "      <td>56.0</td>\n",
              "    </tr>\n",
              "    <tr>\n",
              "      <th>16419</th>\n",
              "      <td>75</td>\n",
              "      <td>65.925022</td>\n",
              "      <td>152.613548</td>\n",
              "      <td>52.5</td>\n",
              "    </tr>\n",
              "    <tr>\n",
              "      <th>24752</th>\n",
              "      <td>150</td>\n",
              "      <td>169.676794</td>\n",
              "      <td>152.613548</td>\n",
              "      <td>105.0</td>\n",
              "    </tr>\n",
              "    <tr>\n",
              "      <th>39397</th>\n",
              "      <td>150</td>\n",
              "      <td>140.057180</td>\n",
              "      <td>152.613548</td>\n",
              "      <td>105.0</td>\n",
              "    </tr>\n",
              "  </tbody>\n",
              "</table>\n",
              "</div>\n",
              "      <button class=\"colab-df-convert\" onclick=\"convertToInteractive('df-8c5b09b6-97a4-4d45-8cfc-ecbf44ab6906')\"\n",
              "              title=\"Convert this dataframe to an interactive table.\"\n",
              "              style=\"display:none;\">\n",
              "        \n",
              "  <svg xmlns=\"http://www.w3.org/2000/svg\" height=\"24px\"viewBox=\"0 0 24 24\"\n",
              "       width=\"24px\">\n",
              "    <path d=\"M0 0h24v24H0V0z\" fill=\"none\"/>\n",
              "    <path d=\"M18.56 5.44l.94 2.06.94-2.06 2.06-.94-2.06-.94-.94-2.06-.94 2.06-2.06.94zm-11 1L8.5 8.5l.94-2.06 2.06-.94-2.06-.94L8.5 2.5l-.94 2.06-2.06.94zm10 10l.94 2.06.94-2.06 2.06-.94-2.06-.94-.94-2.06-.94 2.06-2.06.94z\"/><path d=\"M17.41 7.96l-1.37-1.37c-.4-.4-.92-.59-1.43-.59-.52 0-1.04.2-1.43.59L10.3 9.45l-7.72 7.72c-.78.78-.78 2.05 0 2.83L4 21.41c.39.39.9.59 1.41.59.51 0 1.02-.2 1.41-.59l7.78-7.78 2.81-2.81c.8-.78.8-2.07 0-2.86zM5.41 20L4 18.59l7.72-7.72 1.47 1.35L5.41 20z\"/>\n",
              "  </svg>\n",
              "      </button>\n",
              "      \n",
              "  <style>\n",
              "    .colab-df-container {\n",
              "      display:flex;\n",
              "      flex-wrap:wrap;\n",
              "      gap: 12px;\n",
              "    }\n",
              "\n",
              "    .colab-df-convert {\n",
              "      background-color: #E8F0FE;\n",
              "      border: none;\n",
              "      border-radius: 50%;\n",
              "      cursor: pointer;\n",
              "      display: none;\n",
              "      fill: #1967D2;\n",
              "      height: 32px;\n",
              "      padding: 0 0 0 0;\n",
              "      width: 32px;\n",
              "    }\n",
              "\n",
              "    .colab-df-convert:hover {\n",
              "      background-color: #E2EBFA;\n",
              "      box-shadow: 0px 1px 2px rgba(60, 64, 67, 0.3), 0px 1px 3px 1px rgba(60, 64, 67, 0.15);\n",
              "      fill: #174EA6;\n",
              "    }\n",
              "\n",
              "    [theme=dark] .colab-df-convert {\n",
              "      background-color: #3B4455;\n",
              "      fill: #D2E3FC;\n",
              "    }\n",
              "\n",
              "    [theme=dark] .colab-df-convert:hover {\n",
              "      background-color: #434B5C;\n",
              "      box-shadow: 0px 1px 3px 1px rgba(0, 0, 0, 0.15);\n",
              "      filter: drop-shadow(0px 1px 2px rgba(0, 0, 0, 0.3));\n",
              "      fill: #FFFFFF;\n",
              "    }\n",
              "  </style>\n",
              "\n",
              "      <script>\n",
              "        const buttonEl =\n",
              "          document.querySelector('#df-8c5b09b6-97a4-4d45-8cfc-ecbf44ab6906 button.colab-df-convert');\n",
              "        buttonEl.style.display =\n",
              "          google.colab.kernel.accessAllowed ? 'block' : 'none';\n",
              "\n",
              "        async function convertToInteractive(key) {\n",
              "          const element = document.querySelector('#df-8c5b09b6-97a4-4d45-8cfc-ecbf44ab6906');\n",
              "          const dataTable =\n",
              "            await google.colab.kernel.invokeFunction('convertToInteractive',\n",
              "                                                     [key], {});\n",
              "          if (!dataTable) return;\n",
              "\n",
              "          const docLinkHtml = 'Like what you see? Visit the ' +\n",
              "            '<a target=\"_blank\" href=https://colab.research.google.com/notebooks/data_table.ipynb>data table notebook</a>'\n",
              "            + ' to learn more about interactive tables.';\n",
              "          element.innerHTML = '';\n",
              "          dataTable['output_type'] = 'display_data';\n",
              "          await google.colab.output.renderOutput(dataTable, element);\n",
              "          const docLink = document.createElement('div');\n",
              "          docLink.innerHTML = docLinkHtml;\n",
              "          element.appendChild(docLink);\n",
              "        }\n",
              "      </script>\n",
              "    </div>\n",
              "  </div>\n",
              "  "
            ],
            "text/plain": [
              "       actual_test_y  Model3_Predictions  Naive_Model_Prediction  cost_to_host\n",
              "22035             65           68.046320              152.613548          45.5\n",
              "18599             80           65.043886              152.613548          56.0\n",
              "16419             75           65.925022              152.613548          52.5\n",
              "24752            150          169.676794              152.613548         105.0\n",
              "39397            150          140.057180              152.613548         105.0"
            ]
          },
          "execution_count": 57,
          "metadata": {},
          "output_type": "execute_result"
        }
      ],
      "source": [
        "cost_to_host = .70*test_y\n",
        "new_df[\"cost_to_host\"] = cost_to_host\n",
        "new_df.head()"
      ]
    },
    {
      "cell_type": "code",
      "execution_count": null,
      "metadata": {
        "colab": {
          "background_save": true
        },
        "id": "nCAhamz0xMsz",
        "outputId": "c1557c74-5817-4310-b8c2-9a48ffb55aec"
      },
      "outputs": [
        {
          "data": {
            "text/html": [
              "\n",
              "  <div id=\"df-618b3283-a35f-465f-80a3-a9d6debe575e\">\n",
              "    <div class=\"colab-df-container\">\n",
              "      <div>\n",
              "<style scoped>\n",
              "    .dataframe tbody tr th:only-of-type {\n",
              "        vertical-align: middle;\n",
              "    }\n",
              "\n",
              "    .dataframe tbody tr th {\n",
              "        vertical-align: top;\n",
              "    }\n",
              "\n",
              "    .dataframe thead th {\n",
              "        text-align: right;\n",
              "    }\n",
              "</style>\n",
              "<table border=\"1\" class=\"dataframe\">\n",
              "  <thead>\n",
              "    <tr style=\"text-align: right;\">\n",
              "      <th></th>\n",
              "      <th>actual_test_y</th>\n",
              "      <th>Model3_Predictions</th>\n",
              "      <th>Naive_Model_Prediction</th>\n",
              "      <th>cost_to_host</th>\n",
              "      <th>exp_profit_Model3</th>\n",
              "      <th>exp_profit_Naive</th>\n",
              "    </tr>\n",
              "  </thead>\n",
              "  <tbody>\n",
              "    <tr>\n",
              "      <th>22035</th>\n",
              "      <td>65</td>\n",
              "      <td>68.046320</td>\n",
              "      <td>152.613548</td>\n",
              "      <td>45.5</td>\n",
              "      <td>22.546320</td>\n",
              "      <td>0.000000</td>\n",
              "    </tr>\n",
              "    <tr>\n",
              "      <th>18599</th>\n",
              "      <td>80</td>\n",
              "      <td>65.043886</td>\n",
              "      <td>152.613548</td>\n",
              "      <td>56.0</td>\n",
              "      <td>9.043886</td>\n",
              "      <td>0.000000</td>\n",
              "    </tr>\n",
              "    <tr>\n",
              "      <th>16419</th>\n",
              "      <td>75</td>\n",
              "      <td>65.925022</td>\n",
              "      <td>152.613548</td>\n",
              "      <td>52.5</td>\n",
              "      <td>13.425022</td>\n",
              "      <td>0.000000</td>\n",
              "    </tr>\n",
              "    <tr>\n",
              "      <th>24752</th>\n",
              "      <td>150</td>\n",
              "      <td>169.676794</td>\n",
              "      <td>152.613548</td>\n",
              "      <td>105.0</td>\n",
              "      <td>0.000000</td>\n",
              "      <td>47.613548</td>\n",
              "    </tr>\n",
              "    <tr>\n",
              "      <th>39397</th>\n",
              "      <td>150</td>\n",
              "      <td>140.057180</td>\n",
              "      <td>152.613548</td>\n",
              "      <td>105.0</td>\n",
              "      <td>35.057180</td>\n",
              "      <td>47.613548</td>\n",
              "    </tr>\n",
              "  </tbody>\n",
              "</table>\n",
              "</div>\n",
              "      <button class=\"colab-df-convert\" onclick=\"convertToInteractive('df-618b3283-a35f-465f-80a3-a9d6debe575e')\"\n",
              "              title=\"Convert this dataframe to an interactive table.\"\n",
              "              style=\"display:none;\">\n",
              "        \n",
              "  <svg xmlns=\"http://www.w3.org/2000/svg\" height=\"24px\"viewBox=\"0 0 24 24\"\n",
              "       width=\"24px\">\n",
              "    <path d=\"M0 0h24v24H0V0z\" fill=\"none\"/>\n",
              "    <path d=\"M18.56 5.44l.94 2.06.94-2.06 2.06-.94-2.06-.94-.94-2.06-.94 2.06-2.06.94zm-11 1L8.5 8.5l.94-2.06 2.06-.94-2.06-.94L8.5 2.5l-.94 2.06-2.06.94zm10 10l.94 2.06.94-2.06 2.06-.94-2.06-.94-.94-2.06-.94 2.06-2.06.94z\"/><path d=\"M17.41 7.96l-1.37-1.37c-.4-.4-.92-.59-1.43-.59-.52 0-1.04.2-1.43.59L10.3 9.45l-7.72 7.72c-.78.78-.78 2.05 0 2.83L4 21.41c.39.39.9.59 1.41.59.51 0 1.02-.2 1.41-.59l7.78-7.78 2.81-2.81c.8-.78.8-2.07 0-2.86zM5.41 20L4 18.59l7.72-7.72 1.47 1.35L5.41 20z\"/>\n",
              "  </svg>\n",
              "      </button>\n",
              "      \n",
              "  <style>\n",
              "    .colab-df-container {\n",
              "      display:flex;\n",
              "      flex-wrap:wrap;\n",
              "      gap: 12px;\n",
              "    }\n",
              "\n",
              "    .colab-df-convert {\n",
              "      background-color: #E8F0FE;\n",
              "      border: none;\n",
              "      border-radius: 50%;\n",
              "      cursor: pointer;\n",
              "      display: none;\n",
              "      fill: #1967D2;\n",
              "      height: 32px;\n",
              "      padding: 0 0 0 0;\n",
              "      width: 32px;\n",
              "    }\n",
              "\n",
              "    .colab-df-convert:hover {\n",
              "      background-color: #E2EBFA;\n",
              "      box-shadow: 0px 1px 2px rgba(60, 64, 67, 0.3), 0px 1px 3px 1px rgba(60, 64, 67, 0.15);\n",
              "      fill: #174EA6;\n",
              "    }\n",
              "\n",
              "    [theme=dark] .colab-df-convert {\n",
              "      background-color: #3B4455;\n",
              "      fill: #D2E3FC;\n",
              "    }\n",
              "\n",
              "    [theme=dark] .colab-df-convert:hover {\n",
              "      background-color: #434B5C;\n",
              "      box-shadow: 0px 1px 3px 1px rgba(0, 0, 0, 0.15);\n",
              "      filter: drop-shadow(0px 1px 2px rgba(0, 0, 0, 0.3));\n",
              "      fill: #FFFFFF;\n",
              "    }\n",
              "  </style>\n",
              "\n",
              "      <script>\n",
              "        const buttonEl =\n",
              "          document.querySelector('#df-618b3283-a35f-465f-80a3-a9d6debe575e button.colab-df-convert');\n",
              "        buttonEl.style.display =\n",
              "          google.colab.kernel.accessAllowed ? 'block' : 'none';\n",
              "\n",
              "        async function convertToInteractive(key) {\n",
              "          const element = document.querySelector('#df-618b3283-a35f-465f-80a3-a9d6debe575e');\n",
              "          const dataTable =\n",
              "            await google.colab.kernel.invokeFunction('convertToInteractive',\n",
              "                                                     [key], {});\n",
              "          if (!dataTable) return;\n",
              "\n",
              "          const docLinkHtml = 'Like what you see? Visit the ' +\n",
              "            '<a target=\"_blank\" href=https://colab.research.google.com/notebooks/data_table.ipynb>data table notebook</a>'\n",
              "            + ' to learn more about interactive tables.';\n",
              "          element.innerHTML = '';\n",
              "          dataTable['output_type'] = 'display_data';\n",
              "          await google.colab.output.renderOutput(dataTable, element);\n",
              "          const docLink = document.createElement('div');\n",
              "          docLink.innerHTML = docLinkHtml;\n",
              "          element.appendChild(docLink);\n",
              "        }\n",
              "      </script>\n",
              "    </div>\n",
              "  </div>\n",
              "  "
            ],
            "text/plain": [
              "       actual_test_y  Model3_Predictions  Naive_Model_Prediction  \\\n",
              "22035             65           68.046320              152.613548   \n",
              "18599             80           65.043886              152.613548   \n",
              "16419             75           65.925022              152.613548   \n",
              "24752            150          169.676794              152.613548   \n",
              "39397            150          140.057180              152.613548   \n",
              "\n",
              "       cost_to_host  exp_profit_Model3  exp_profit_Naive  \n",
              "22035          45.5          22.546320          0.000000  \n",
              "18599          56.0           9.043886          0.000000  \n",
              "16419          52.5          13.425022          0.000000  \n",
              "24752         105.0           0.000000         47.613548  \n",
              "39397         105.0          35.057180         47.613548  "
            ]
          },
          "execution_count": 58,
          "metadata": {},
          "output_type": "execute_result"
        }
      ],
      "source": [
        "new_df[\"exp_profit_Model3\"] = np.where(test_pred_y_Model3 <= 1.1*new_df[\"actual_test_y\"], test_pred_y_Model3 - cost_to_host, 0)\n",
        "new_df[\"exp_profit_Naive\"] = np.where(new_df[\"Naive_Model_Prediction\"] <= 1.1*test_y, new_df[\"Naive_Model_Prediction\"] - cost_to_host, 0)\n",
        "new_df.head()"
      ]
    },
    {
      "cell_type": "code",
      "execution_count": null,
      "metadata": {
        "colab": {
          "background_save": true
        },
        "id": "CRX1Wybqxo-Y",
        "outputId": "40c1001e-d0be-4071-b3b9-de5a9adfc8b3"
      },
      "outputs": [
        {
          "name": "stdout",
          "output_type": "stream",
          "text": [
            "The average expected profit from Model 3, the random forest  model is -2.045181500510595\n",
            "The average expected profit for the Naive model is -14.696297594098223\n"
          ]
        }
      ],
      "source": [
        "print(\"The average expected profit from Model 3, the random forest  model is\", new_df[\"exp_profit_Model3\"].mean())\n",
        "print(\"The average expected profit for the Naive model is\", new_df[\"exp_profit_Naive\"].mean())"
      ]
    },
    {
      "cell_type": "code",
      "execution_count": null,
      "metadata": {
        "colab": {
          "background_save": true
        },
        "id": "qi8G5KCr3EwR",
        "outputId": "cccb3c72-d93b-4499-e5ce-d4b359054a9f"
      },
      "outputs": [
        {
          "data": {
            "text/plain": [
              "12.651116093587628"
            ]
          },
          "execution_count": 60,
          "metadata": {},
          "output_type": "execute_result"
        }
      ],
      "source": [
        "new_df[\"exp_profit_Model3\"].mean()-new_df[\"exp_profit_Naive\"].mean()"
      ]
    },
    {
      "cell_type": "markdown",
      "metadata": {
        "id": "UybxVEkM2EU9"
      },
      "source": [
        "Both Model3 and the Naive model have a negative expected profit. However, Model3 or our random forest model is the better of the 2 models because it has a smaller negative profit. On average,  Model3 will have a benefit or savings of $12.52 compared to the Naive model."
      ]
    }
  ],
  "metadata": {
    "colab": {
      "provenance": []
    },
    "kernelspec": {
      "display_name": "Python 3",
      "name": "python3"
    },
    "language_info": {
      "name": "python"
    }
  },
  "nbformat": 4,
  "nbformat_minor": 0
}